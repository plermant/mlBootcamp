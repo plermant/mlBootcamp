{
 "cells": [
  {
   "cell_type": "markdown",
   "id": "79400d89",
   "metadata": {},
   "source": [
    "# Empirical Techniques for Modeling Imbalanced Binary Tabular Datasets\n",
    "\n",
    "We explore various techniques to predict (very) imbalanced datasets, via feature engineering, data sampling and varied machine learning models. We do not try to find the very best model (and associated hyperparameters) for a given dataset. Rather, we study the impact of different approaches and techniques on the *direction* of various algoritms. We summarized our findings, based on a collection of datasets at https://docs.google.com/document/d/16Hr76mYMeTO8Yvykn6mI376-I3TitgLcNi5_ZkJvhAw"
   ]
  },
  {
   "cell_type": "markdown",
   "id": "f3ecfb86",
   "metadata": {},
   "source": [
    "## Imports"
   ]
  },
  {
   "cell_type": "code",
   "execution_count": 919,
   "id": "7c0e984a",
   "metadata": {},
   "outputs": [],
   "source": [
    "import numpy as np\n",
    "from numpy.random import seed\n",
    "import pandas as pd\n",
    "from pandas import get_dummies\n",
    "import sweetviz as sw\n",
    "import sklearn.metrics as metrics\n",
    "from sklearn.model_selection import train_test_split\n",
    "from sklearn.metrics import roc_auc_score,f1_score,recall_score\n",
    "import catboost\n",
    "from catboost import CatBoostClassifier\n",
    "from sklearn.linear_model import LogisticRegression\n",
    "from sklearn.svm import SVC,NuSVC\n",
    "from sklearn.preprocessing import OrdinalEncoder, PowerTransformer\n",
    "import re\n",
    "import scipy.stats as stats\n",
    "from scipy.stats import chi2_contingency , spearmanr\n",
    "from sklearn.model_selection import train_test_split\n",
    "from sklearn.inspection import permutation_importance\n",
    "import tensorflow as tf\n",
    "from tensorflow.keras import layers\n",
    "from keras import backend as K\n",
    "import matplotlib.pyplot as plt\n",
    "%matplotlib inline\n",
    "plt.style.use('seaborn-whitegrid')\n",
    "import seaborn as sns\n",
    "from imblearn.under_sampling import EditedNearestNeighbours\n",
    "from imblearn.over_sampling import SMOTE, ADASYN\n",
    "import shap\n",
    "from pyod.models.iforest import IForest\n",
    "from pyod.utils.data import evaluate_print\n",
    "from pyod.models.auto_encoder import AutoEncoder"
   ]
  },
  {
   "cell_type": "markdown",
   "id": "1749a4ed",
   "metadata": {},
   "source": [
    "### Miscelaneous"
   ]
  },
  {
   "cell_type": "code",
   "execution_count": 920,
   "id": "d3543cc5",
   "metadata": {},
   "outputs": [],
   "source": [
    "# TESTING params, should be all set to zero when custom parameters are set and final run on entire dataset is performed.\n",
    "goFast=0 #set to 1 for fast processing, only one model used: catboost\n",
    "doViz =0 #This step can take some time so if program is run multiple times, we may want to set it to 0\n",
    "debugLevel=0 # typically maps to model verbose levels 0 or 1.\n",
    "  \n",
    "# filter out unncessary warnings\n",
    "import warnings\n",
    "warnings.filterwarnings('ignore')"
   ]
  },
  {
   "cell_type": "markdown",
   "id": "b626a46f",
   "metadata": {},
   "source": [
    "## Import data"
   ]
  },
  {
   "cell_type": "code",
   "execution_count": 921,
   "id": "61823993",
   "metadata": {},
   "outputs": [],
   "source": [
    "# CUSTOM IMPLEMENTATION\n",
    "\n",
    "#use sample files\n",
    "# proprietary\n",
    "#testFile='proprietary'\n",
    "# public\n",
    "testFile='defaultCreditCard' # https://archive.ics.uci.edu/ml/datasets/default+of+credit+card+clients\n",
    "#testFile='kaggleInsurance' # https://www.kaggle.com/datasets/arashnic/imbalanced-data-practice\n",
    "\n",
    "if testFile=='proprietary':\n",
    "    df=pd.read_pickle('C:/Users/plermant/git/ML/PP/ATO/ato_fraud_data.pkl')\n",
    "    df=df.sample(frac=0.5)\n",
    "if testFile=='defaultCreditCard':\n",
    "    df=pd.read_csv('C:/Users/plermant/git/sampleFiles/defaultCreditCardClients.csv')\n",
    "if testFile=='kaggleInsurance':\n",
    "    df=pd.read_csv('C:/Users/plermant/git/sampleFiles/kaggleInsurance.csv') \n",
    "# END CUSTOM IMPLEMENTATIONS"
   ]
  },
  {
   "cell_type": "markdown",
   "id": "df8528d6",
   "metadata": {},
   "source": [
    "## Set Global Variables\n",
    "Global variables are project dependent and need to be set thoughtfully. We provide default values so program will run 'out of the box'."
   ]
  },
  {
   "cell_type": "code",
   "execution_count": 922,
   "id": "4b37d24e",
   "metadata": {},
   "outputs": [],
   "source": [
    "# SYSTEM PARAMETER\n",
    "# Revisit defaults below according to your dataset and business goals.\n",
    "\n",
    "# automatically drops columns with more than dropPercent null values\n",
    "dropPercent=10 \n",
    "# ratio used to determine outliers - No outlier is dropped by default, regardless of this value setting.\n",
    "outlierIqrRatio = 1.5\n",
    "# Cramer's V threshold is uses to assess if 2 categorical features are dependent. If over threshold, they get removed\n",
    "cramersThreshold=0.9\n",
    "# we will remove features whose variance multipled by ratio positive/negative label is smaller than varianceThreshold\n",
    "varianceThreshold = .1\n",
    "# Parameters to decide how/if to create an 'other' category when performing one-hot encoding on long-tailed distribution\n",
    "dummyMaxCount = 10 # no more than 10 new features created as a result of one-hot encoding\n",
    "otherLabel=\"otherOH\" # label name used to consolidates all labels beyond dummyMaxCount\n",
    "dummyOtherMaxPercent = .05 # the 'other' feature can hold up to this percentage of the distribution.\n",
    "percentHoldout = 0.3 # percentage of overall dataset to perform validation after training\n",
    "# main metric to train all models for\n",
    "mainMetric=\"roc_auc\" # f1 or roc_auc\n",
    "# correlation threshold, over wich features get removed\n",
    "corrThreshold = 0.9\n",
    "permutationTreshold=0.00001 # Will select (and remove) features that are below this threshold thru permutation\n",
    "shapThreshold=0.001 #  Will select (and remove) features that are below this threshold thru shap\n",
    "imbalanceLossWeightRatio=10 # in one experiment, we set the loss ratio to give more weight to minority class, with ratio here.\n",
    "randomSeed=10 # used for reprocibility\n",
    "tf.keras.utils.set_random_seed(randomSeed)\n",
    "seed(randomSeed)\n",
    "\n",
    "#model default definition\n",
    "allModels=[] # holds all the models to be evaluated in this notebook\n",
    "m={'name':'catboost','handle':CatBoostClassifier(silent=True,random_state=randomSeed),'type':'sklearn'}\n",
    "allModels.append(m)\n",
    "if goFast==0:\n",
    "    m={'name':'logregress','handle':LogisticRegression(random_state=randomSeed),'type':'sklearn'}\n",
    "    allModels.append(m)\n",
    "    m={'name':'ffnn','handle':\"defined inside processKeras function\",'type':'keras'} # \"defined inside processKeras function\"\n",
    "    epochCount=100 # Large value, however earlyStopping on validation loss is implemented\n",
    "    allModels.append(m)\n",
    "    m={'name':'iForest','handle':\"defined inside processAnomaly function\",'type':'anomaly'} # \"defined inside processAnomaly function\"\n",
    "    allModels.append(m)\n",
    "    m={'name':'autoencoder','handle':\"defined inside processAnomaly function\",'type':'anomaly'} # \"defined inside processAnomaly function\"\n",
    "    allModels.append(m)\n",
    "    epochAutoencoder=10 # for autoencoder models only"
   ]
  },
  {
   "cell_type": "code",
   "execution_count": 923,
   "id": "75a7fc53",
   "metadata": {},
   "outputs": [],
   "source": [
    "# BUSINESS DRIVEN PARAMETERS\n",
    "# Must be set according to business knowledge\n",
    "#  Some piror EDA may have to be performed first by setting top doViz to one in top cell.\n",
    "\n",
    "# Required\n",
    "target=\"\" \n",
    "# Must be 1.  Means that a hit is marked as targetPositive in target column. \n",
    "targetPositive=1\n",
    "\n",
    "# Not required\n",
    "# Features to drop as they don't hold any predictive powers, like item ID\n",
    "columnsToDrop=[] # requires business input\n",
    "# List feature names known to be dateTime \n",
    "dateTimeList=[]\n",
    "# List discrete numeric features that should be categories (nemeric without ranking meaning, like integer color value )\n",
    "numericCat=[]\n",
    "#list non-datetime object types known to *not* be categories\n",
    "notCategory=[] \n",
    "# Dictionary of dictionary labels:values , i.e. string categories with rank, like education levels\n",
    "ordinalCategory={} # e.g. {'education':{'noEdu':0,'highSchool':1,'higher':2},{...}}\n",
    "# when an ordinal catagory column is replaced by numbers, its name will be appended with subOrdinal featureName becomes featureNamesubOrdinal\n",
    "subOrdinal=\"ord_\" \n",
    "    \n",
    "if testFile=='proprietary':\n",
    "    # set dataset target name \n",
    "    target=\"is_bad\"\n",
    "    # Features to drop as they don't hold any predictive powers\n",
    "    columnsToDrop=['account_number_driver']\n",
    "    # List feature names known to be dateTime \n",
    "    dateTimeList=['run_date']\n",
    "    # List discrete numeric features that should be categories (nemeric without ranking meaning, like integer color value )\n",
    "    numericCat=['paper_credit_mktg_pref_y_n','cust_acct_type_code','actv_slr_y_n','cust_categ_code','count_email_domain']\n",
    "elif testFile=='defaultCreditCard':\n",
    "    # set dataset target name \n",
    "    target=\"default\"\n",
    "    numericCat=['SEX','MARRIAGE','PAY_0','PAY_2','PAY_3','PAY_4','PAY_5','PAY_6']\n",
    "    # Features to drop as they don't hold any predictive powers\n",
    "elif testFile=='kaggleInsurance':\n",
    "    target=\"Response\"\n",
    "    columnsToDrop=['id']\n",
    "    ordinalCategory={'Vehicle_Age':{'< 1 Year':1,'1-2 Year':2,'> 2 Years':3}} # e.g. {'education':{'noEdu':0,'highSchool':1,'higher':2},{...}}\n",
    "else: \n",
    "    print(\"PICK a file !!!!!!!\")\n",
    "    exit(1)\n"
   ]
  },
  {
   "cell_type": "code",
   "execution_count": 924,
   "id": "79b6a1c8",
   "metadata": {},
   "outputs": [
    {
     "name": "stdout",
     "output_type": "stream",
     "text": [
      "<class 'pandas.core.frame.DataFrame'>\n",
      "RangeIndex: 30000 entries, 0 to 29999\n",
      "Data columns (total 24 columns):\n",
      " #   Column     Non-Null Count  Dtype\n",
      "---  ------     --------------  -----\n",
      " 0   LIMIT_BAL  30000 non-null  int64\n",
      " 1   SEX        30000 non-null  int64\n",
      " 2   EDUCATION  30000 non-null  int64\n",
      " 3   MARRIAGE   30000 non-null  int64\n",
      " 4   AGE        30000 non-null  int64\n",
      " 5   PAY_0      30000 non-null  int64\n",
      " 6   PAY_2      30000 non-null  int64\n",
      " 7   PAY_3      30000 non-null  int64\n",
      " 8   PAY_4      30000 non-null  int64\n",
      " 9   PAY_5      30000 non-null  int64\n",
      " 10  PAY_6      30000 non-null  int64\n",
      " 11  BILL_AMT1  30000 non-null  int64\n",
      " 12  BILL_AMT2  30000 non-null  int64\n",
      " 13  BILL_AMT3  30000 non-null  int64\n",
      " 14  BILL_AMT4  30000 non-null  int64\n",
      " 15  BILL_AMT5  30000 non-null  int64\n",
      " 16  BILL_AMT6  30000 non-null  int64\n",
      " 17  PAY_AMT1   30000 non-null  int64\n",
      " 18  PAY_AMT2   30000 non-null  int64\n",
      " 19  PAY_AMT3   30000 non-null  int64\n",
      " 20  PAY_AMT4   30000 non-null  int64\n",
      " 21  PAY_AMT5   30000 non-null  int64\n",
      " 22  PAY_AMT6   30000 non-null  int64\n",
      " 23  default    30000 non-null  int64\n",
      "dtypes: int64(24)\n",
      "memory usage: 5.5 MB\n"
     ]
    },
    {
     "data": {
      "text/html": [
       "<div>\n",
       "<style scoped>\n",
       "    .dataframe tbody tr th:only-of-type {\n",
       "        vertical-align: middle;\n",
       "    }\n",
       "\n",
       "    .dataframe tbody tr th {\n",
       "        vertical-align: top;\n",
       "    }\n",
       "\n",
       "    .dataframe thead th {\n",
       "        text-align: right;\n",
       "    }\n",
       "</style>\n",
       "<table border=\"1\" class=\"dataframe\">\n",
       "  <thead>\n",
       "    <tr style=\"text-align: right;\">\n",
       "      <th></th>\n",
       "      <th>LIMIT_BAL</th>\n",
       "      <th>SEX</th>\n",
       "      <th>EDUCATION</th>\n",
       "      <th>MARRIAGE</th>\n",
       "      <th>AGE</th>\n",
       "      <th>PAY_0</th>\n",
       "      <th>PAY_2</th>\n",
       "      <th>PAY_3</th>\n",
       "      <th>PAY_4</th>\n",
       "      <th>PAY_5</th>\n",
       "      <th>...</th>\n",
       "      <th>BILL_AMT4</th>\n",
       "      <th>BILL_AMT5</th>\n",
       "      <th>BILL_AMT6</th>\n",
       "      <th>PAY_AMT1</th>\n",
       "      <th>PAY_AMT2</th>\n",
       "      <th>PAY_AMT3</th>\n",
       "      <th>PAY_AMT4</th>\n",
       "      <th>PAY_AMT5</th>\n",
       "      <th>PAY_AMT6</th>\n",
       "      <th>default</th>\n",
       "    </tr>\n",
       "  </thead>\n",
       "  <tbody>\n",
       "    <tr>\n",
       "      <th>count</th>\n",
       "      <td>30000.000000</td>\n",
       "      <td>30000.000000</td>\n",
       "      <td>30000.000000</td>\n",
       "      <td>30000.000000</td>\n",
       "      <td>30000.000000</td>\n",
       "      <td>30000.000000</td>\n",
       "      <td>30000.000000</td>\n",
       "      <td>30000.000000</td>\n",
       "      <td>30000.000000</td>\n",
       "      <td>30000.000000</td>\n",
       "      <td>...</td>\n",
       "      <td>30000.000000</td>\n",
       "      <td>30000.000000</td>\n",
       "      <td>30000.000000</td>\n",
       "      <td>30000.000000</td>\n",
       "      <td>3.000000e+04</td>\n",
       "      <td>30000.00000</td>\n",
       "      <td>30000.000000</td>\n",
       "      <td>30000.000000</td>\n",
       "      <td>30000.000000</td>\n",
       "      <td>30000.000000</td>\n",
       "    </tr>\n",
       "    <tr>\n",
       "      <th>mean</th>\n",
       "      <td>167484.322667</td>\n",
       "      <td>1.603733</td>\n",
       "      <td>1.853133</td>\n",
       "      <td>1.551867</td>\n",
       "      <td>35.485500</td>\n",
       "      <td>-0.016700</td>\n",
       "      <td>-0.133767</td>\n",
       "      <td>-0.166200</td>\n",
       "      <td>-0.220667</td>\n",
       "      <td>-0.266200</td>\n",
       "      <td>...</td>\n",
       "      <td>43262.948967</td>\n",
       "      <td>40311.400967</td>\n",
       "      <td>38871.760400</td>\n",
       "      <td>5663.580500</td>\n",
       "      <td>5.921163e+03</td>\n",
       "      <td>5225.68150</td>\n",
       "      <td>4826.076867</td>\n",
       "      <td>4799.387633</td>\n",
       "      <td>5215.502567</td>\n",
       "      <td>0.221200</td>\n",
       "    </tr>\n",
       "    <tr>\n",
       "      <th>std</th>\n",
       "      <td>129747.661567</td>\n",
       "      <td>0.489129</td>\n",
       "      <td>0.790349</td>\n",
       "      <td>0.521970</td>\n",
       "      <td>9.217904</td>\n",
       "      <td>1.123802</td>\n",
       "      <td>1.197186</td>\n",
       "      <td>1.196868</td>\n",
       "      <td>1.169139</td>\n",
       "      <td>1.133187</td>\n",
       "      <td>...</td>\n",
       "      <td>64332.856134</td>\n",
       "      <td>60797.155770</td>\n",
       "      <td>59554.107537</td>\n",
       "      <td>16563.280354</td>\n",
       "      <td>2.304087e+04</td>\n",
       "      <td>17606.96147</td>\n",
       "      <td>15666.159744</td>\n",
       "      <td>15278.305679</td>\n",
       "      <td>17777.465775</td>\n",
       "      <td>0.415062</td>\n",
       "    </tr>\n",
       "    <tr>\n",
       "      <th>min</th>\n",
       "      <td>10000.000000</td>\n",
       "      <td>1.000000</td>\n",
       "      <td>0.000000</td>\n",
       "      <td>0.000000</td>\n",
       "      <td>21.000000</td>\n",
       "      <td>-2.000000</td>\n",
       "      <td>-2.000000</td>\n",
       "      <td>-2.000000</td>\n",
       "      <td>-2.000000</td>\n",
       "      <td>-2.000000</td>\n",
       "      <td>...</td>\n",
       "      <td>-170000.000000</td>\n",
       "      <td>-81334.000000</td>\n",
       "      <td>-339603.000000</td>\n",
       "      <td>0.000000</td>\n",
       "      <td>0.000000e+00</td>\n",
       "      <td>0.00000</td>\n",
       "      <td>0.000000</td>\n",
       "      <td>0.000000</td>\n",
       "      <td>0.000000</td>\n",
       "      <td>0.000000</td>\n",
       "    </tr>\n",
       "    <tr>\n",
       "      <th>25%</th>\n",
       "      <td>50000.000000</td>\n",
       "      <td>1.000000</td>\n",
       "      <td>1.000000</td>\n",
       "      <td>1.000000</td>\n",
       "      <td>28.000000</td>\n",
       "      <td>-1.000000</td>\n",
       "      <td>-1.000000</td>\n",
       "      <td>-1.000000</td>\n",
       "      <td>-1.000000</td>\n",
       "      <td>-1.000000</td>\n",
       "      <td>...</td>\n",
       "      <td>2326.750000</td>\n",
       "      <td>1763.000000</td>\n",
       "      <td>1256.000000</td>\n",
       "      <td>1000.000000</td>\n",
       "      <td>8.330000e+02</td>\n",
       "      <td>390.00000</td>\n",
       "      <td>296.000000</td>\n",
       "      <td>252.500000</td>\n",
       "      <td>117.750000</td>\n",
       "      <td>0.000000</td>\n",
       "    </tr>\n",
       "    <tr>\n",
       "      <th>50%</th>\n",
       "      <td>140000.000000</td>\n",
       "      <td>2.000000</td>\n",
       "      <td>2.000000</td>\n",
       "      <td>2.000000</td>\n",
       "      <td>34.000000</td>\n",
       "      <td>0.000000</td>\n",
       "      <td>0.000000</td>\n",
       "      <td>0.000000</td>\n",
       "      <td>0.000000</td>\n",
       "      <td>0.000000</td>\n",
       "      <td>...</td>\n",
       "      <td>19052.000000</td>\n",
       "      <td>18104.500000</td>\n",
       "      <td>17071.000000</td>\n",
       "      <td>2100.000000</td>\n",
       "      <td>2.009000e+03</td>\n",
       "      <td>1800.00000</td>\n",
       "      <td>1500.000000</td>\n",
       "      <td>1500.000000</td>\n",
       "      <td>1500.000000</td>\n",
       "      <td>0.000000</td>\n",
       "    </tr>\n",
       "    <tr>\n",
       "      <th>75%</th>\n",
       "      <td>240000.000000</td>\n",
       "      <td>2.000000</td>\n",
       "      <td>2.000000</td>\n",
       "      <td>2.000000</td>\n",
       "      <td>41.000000</td>\n",
       "      <td>0.000000</td>\n",
       "      <td>0.000000</td>\n",
       "      <td>0.000000</td>\n",
       "      <td>0.000000</td>\n",
       "      <td>0.000000</td>\n",
       "      <td>...</td>\n",
       "      <td>54506.000000</td>\n",
       "      <td>50190.500000</td>\n",
       "      <td>49198.250000</td>\n",
       "      <td>5006.000000</td>\n",
       "      <td>5.000000e+03</td>\n",
       "      <td>4505.00000</td>\n",
       "      <td>4013.250000</td>\n",
       "      <td>4031.500000</td>\n",
       "      <td>4000.000000</td>\n",
       "      <td>0.000000</td>\n",
       "    </tr>\n",
       "    <tr>\n",
       "      <th>max</th>\n",
       "      <td>1000000.000000</td>\n",
       "      <td>2.000000</td>\n",
       "      <td>6.000000</td>\n",
       "      <td>3.000000</td>\n",
       "      <td>79.000000</td>\n",
       "      <td>8.000000</td>\n",
       "      <td>8.000000</td>\n",
       "      <td>8.000000</td>\n",
       "      <td>8.000000</td>\n",
       "      <td>8.000000</td>\n",
       "      <td>...</td>\n",
       "      <td>891586.000000</td>\n",
       "      <td>927171.000000</td>\n",
       "      <td>961664.000000</td>\n",
       "      <td>873552.000000</td>\n",
       "      <td>1.684259e+06</td>\n",
       "      <td>896040.00000</td>\n",
       "      <td>621000.000000</td>\n",
       "      <td>426529.000000</td>\n",
       "      <td>528666.000000</td>\n",
       "      <td>1.000000</td>\n",
       "    </tr>\n",
       "  </tbody>\n",
       "</table>\n",
       "<p>8 rows × 24 columns</p>\n",
       "</div>"
      ],
      "text/plain": [
       "            LIMIT_BAL           SEX     EDUCATION      MARRIAGE           AGE  \\\n",
       "count    30000.000000  30000.000000  30000.000000  30000.000000  30000.000000   \n",
       "mean    167484.322667      1.603733      1.853133      1.551867     35.485500   \n",
       "std     129747.661567      0.489129      0.790349      0.521970      9.217904   \n",
       "min      10000.000000      1.000000      0.000000      0.000000     21.000000   \n",
       "25%      50000.000000      1.000000      1.000000      1.000000     28.000000   \n",
       "50%     140000.000000      2.000000      2.000000      2.000000     34.000000   \n",
       "75%     240000.000000      2.000000      2.000000      2.000000     41.000000   \n",
       "max    1000000.000000      2.000000      6.000000      3.000000     79.000000   \n",
       "\n",
       "              PAY_0         PAY_2         PAY_3         PAY_4         PAY_5  \\\n",
       "count  30000.000000  30000.000000  30000.000000  30000.000000  30000.000000   \n",
       "mean      -0.016700     -0.133767     -0.166200     -0.220667     -0.266200   \n",
       "std        1.123802      1.197186      1.196868      1.169139      1.133187   \n",
       "min       -2.000000     -2.000000     -2.000000     -2.000000     -2.000000   \n",
       "25%       -1.000000     -1.000000     -1.000000     -1.000000     -1.000000   \n",
       "50%        0.000000      0.000000      0.000000      0.000000      0.000000   \n",
       "75%        0.000000      0.000000      0.000000      0.000000      0.000000   \n",
       "max        8.000000      8.000000      8.000000      8.000000      8.000000   \n",
       "\n",
       "       ...      BILL_AMT4      BILL_AMT5      BILL_AMT6       PAY_AMT1  \\\n",
       "count  ...   30000.000000   30000.000000   30000.000000   30000.000000   \n",
       "mean   ...   43262.948967   40311.400967   38871.760400    5663.580500   \n",
       "std    ...   64332.856134   60797.155770   59554.107537   16563.280354   \n",
       "min    ... -170000.000000  -81334.000000 -339603.000000       0.000000   \n",
       "25%    ...    2326.750000    1763.000000    1256.000000    1000.000000   \n",
       "50%    ...   19052.000000   18104.500000   17071.000000    2100.000000   \n",
       "75%    ...   54506.000000   50190.500000   49198.250000    5006.000000   \n",
       "max    ...  891586.000000  927171.000000  961664.000000  873552.000000   \n",
       "\n",
       "           PAY_AMT2      PAY_AMT3       PAY_AMT4       PAY_AMT5  \\\n",
       "count  3.000000e+04   30000.00000   30000.000000   30000.000000   \n",
       "mean   5.921163e+03    5225.68150    4826.076867    4799.387633   \n",
       "std    2.304087e+04   17606.96147   15666.159744   15278.305679   \n",
       "min    0.000000e+00       0.00000       0.000000       0.000000   \n",
       "25%    8.330000e+02     390.00000     296.000000     252.500000   \n",
       "50%    2.009000e+03    1800.00000    1500.000000    1500.000000   \n",
       "75%    5.000000e+03    4505.00000    4013.250000    4031.500000   \n",
       "max    1.684259e+06  896040.00000  621000.000000  426529.000000   \n",
       "\n",
       "            PAY_AMT6       default  \n",
       "count   30000.000000  30000.000000  \n",
       "mean     5215.502567      0.221200  \n",
       "std     17777.465775      0.415062  \n",
       "min         0.000000      0.000000  \n",
       "25%       117.750000      0.000000  \n",
       "50%      1500.000000      0.000000  \n",
       "75%      4000.000000      0.000000  \n",
       "max    528666.000000      1.000000  \n",
       "\n",
       "[8 rows x 24 columns]"
      ]
     },
     "execution_count": 924,
     "metadata": {},
     "output_type": "execute_result"
    }
   ],
   "source": [
    "# print main metrics\n",
    "df.info()\n",
    "df.describe()"
   ]
  },
  {
   "cell_type": "markdown",
   "id": "b984d6d5",
   "metadata": {},
   "source": [
    "### Target feature details\n",
    "We'll remove unlabeled target samples as we cannot use them"
   ]
  },
  {
   "cell_type": "code",
   "execution_count": 925,
   "id": "6b6ec05b",
   "metadata": {},
   "outputs": [
    {
     "name": "stdout",
     "output_type": "stream",
     "text": [
      "We removed 0 rows that had null target values\n",
      "\n",
      "Number of unique values and percentages for the target default :\n",
      "23364 samples labeled 0 , or 77.88 percent\n",
      "6636 samples labeled 1 , or 22.12 percent\n"
     ]
    }
   ],
   "source": [
    "# Remove unlabeled samples\n",
    "before=len(df)\n",
    "df = df[df[target].notnull()]\n",
    "print('We removed',before-len(df),'rows that had null target values')\n",
    "\n",
    "unique, counts = np.unique(df[target], return_counts=True)\n",
    "print('\\nNumber of unique values and percentages for the target',target,':')\n",
    "val=np.asarray((unique, counts)).T\n",
    "for i in range(len(val)):\n",
    "    print(val[i][1],'samples labeled',val[i][0],', or',round(100.0* val[i][1]/len(df[target]) ,2),'percent')\n",
    "positivePercent=round(1.0* val[1][1]/len(df[target]) ,4)\n"
   ]
  },
  {
   "cell_type": "markdown",
   "id": "e7e7b3a4",
   "metadata": {},
   "source": [
    "### Drop meaningless features\n",
    "Meaningless features do not have any predictive power, like sample ids, or features with constant values."
   ]
  },
  {
   "cell_type": "code",
   "execution_count": 926,
   "id": "5eb8e46e",
   "metadata": {
    "scrolled": true
   },
   "outputs": [],
   "source": [
    "# drop columns with uniform values\n",
    "\n",
    "for c in df.columns:\n",
    "    if len(df[c].unique())==1:\n",
    "        columnsToDrop.append(c)\n",
    "\n",
    "for c in columnsToDrop: \n",
    "    if c in df.columns: # in case this code was already run\n",
    "        df.drop(columns=c,inplace=True)\n",
    "        print('Removing feature',c,'because all values are the same or in business parameter list columnsToDrop')"
   ]
  },
  {
   "cell_type": "markdown",
   "id": "ad19bb3a",
   "metadata": {},
   "source": [
    "## Basic information and visualization"
   ]
  },
  {
   "cell_type": "code",
   "execution_count": 927,
   "id": "e6c315c0",
   "metadata": {},
   "outputs": [
    {
     "name": "stdout",
     "output_type": "stream",
     "text": [
      "<class 'pandas.core.frame.DataFrame'>\n",
      "Int64Index: 30000 entries, 0 to 29999\n",
      "Data columns (total 24 columns):\n",
      " #   Column     Non-Null Count  Dtype\n",
      "---  ------     --------------  -----\n",
      " 0   LIMIT_BAL  30000 non-null  int64\n",
      " 1   SEX        30000 non-null  int64\n",
      " 2   EDUCATION  30000 non-null  int64\n",
      " 3   MARRIAGE   30000 non-null  int64\n",
      " 4   AGE        30000 non-null  int64\n",
      " 5   PAY_0      30000 non-null  int64\n",
      " 6   PAY_2      30000 non-null  int64\n",
      " 7   PAY_3      30000 non-null  int64\n",
      " 8   PAY_4      30000 non-null  int64\n",
      " 9   PAY_5      30000 non-null  int64\n",
      " 10  PAY_6      30000 non-null  int64\n",
      " 11  BILL_AMT1  30000 non-null  int64\n",
      " 12  BILL_AMT2  30000 non-null  int64\n",
      " 13  BILL_AMT3  30000 non-null  int64\n",
      " 14  BILL_AMT4  30000 non-null  int64\n",
      " 15  BILL_AMT5  30000 non-null  int64\n",
      " 16  BILL_AMT6  30000 non-null  int64\n",
      " 17  PAY_AMT1   30000 non-null  int64\n",
      " 18  PAY_AMT2   30000 non-null  int64\n",
      " 19  PAY_AMT3   30000 non-null  int64\n",
      " 20  PAY_AMT4   30000 non-null  int64\n",
      " 21  PAY_AMT5   30000 non-null  int64\n",
      " 22  PAY_AMT6   30000 non-null  int64\n",
      " 23  default    30000 non-null  int64\n",
      "dtypes: int64(24)\n",
      "memory usage: 5.7 MB\n",
      "Index(['LIMIT_BAL', 'SEX', 'EDUCATION', 'MARRIAGE', 'AGE', 'PAY_0', 'PAY_2',\n",
      "       'PAY_3', 'PAY_4', 'PAY_5', 'PAY_6', 'BILL_AMT1', 'BILL_AMT2',\n",
      "       'BILL_AMT3', 'BILL_AMT4', 'BILL_AMT5', 'BILL_AMT6', 'PAY_AMT1',\n",
      "       'PAY_AMT2', 'PAY_AMT3', 'PAY_AMT4', 'PAY_AMT5', 'PAY_AMT6', 'default'],\n",
      "      dtype='object')\n"
     ]
    }
   ],
   "source": [
    "df.info()\n",
    "print(df.columns)\n",
    "df.head()\n",
    "if doViz==1:\n",
    "    report=sw.analyze(df,pairwise_analysis='off')\n",
    "    report.show_html('out_html',open_browser=True)"
   ]
  },
  {
   "cell_type": "markdown",
   "id": "f4dc8492",
   "metadata": {},
   "source": [
    "## Set data proper types\n",
    "This step will reduce memory size and allow for proper data manpulation. End result will only contain 'category', int64 or float64 types."
   ]
  },
  {
   "cell_type": "markdown",
   "id": "f81ec004",
   "metadata": {},
   "source": [
    "### Turn object type into category, dateTime etc ... when appropriate"
   ]
  },
  {
   "cell_type": "code",
   "execution_count": 928,
   "id": "da96e4b6",
   "metadata": {},
   "outputs": [
    {
     "name": "stdout",
     "output_type": "stream",
     "text": [
      "<class 'pandas.core.frame.DataFrame'>\n",
      "Int64Index: 30000 entries, 0 to 29999\n",
      "Data columns (total 24 columns):\n",
      " #   Column     Non-Null Count  Dtype\n",
      "---  ------     --------------  -----\n",
      " 0   LIMIT_BAL  30000 non-null  int64\n",
      " 1   SEX        30000 non-null  int64\n",
      " 2   EDUCATION  30000 non-null  int64\n",
      " 3   MARRIAGE   30000 non-null  int64\n",
      " 4   AGE        30000 non-null  int64\n",
      " 5   PAY_0      30000 non-null  int64\n",
      " 6   PAY_2      30000 non-null  int64\n",
      " 7   PAY_3      30000 non-null  int64\n",
      " 8   PAY_4      30000 non-null  int64\n",
      " 9   PAY_5      30000 non-null  int64\n",
      " 10  PAY_6      30000 non-null  int64\n",
      " 11  BILL_AMT1  30000 non-null  int64\n",
      " 12  BILL_AMT2  30000 non-null  int64\n",
      " 13  BILL_AMT3  30000 non-null  int64\n",
      " 14  BILL_AMT4  30000 non-null  int64\n",
      " 15  BILL_AMT5  30000 non-null  int64\n",
      " 16  BILL_AMT6  30000 non-null  int64\n",
      " 17  PAY_AMT1   30000 non-null  int64\n",
      " 18  PAY_AMT2   30000 non-null  int64\n",
      " 19  PAY_AMT3   30000 non-null  int64\n",
      " 20  PAY_AMT4   30000 non-null  int64\n",
      " 21  PAY_AMT5   30000 non-null  int64\n",
      " 22  PAY_AMT6   30000 non-null  int64\n",
      " 23  default    30000 non-null  int64\n",
      "dtypes: int64(24)\n",
      "memory usage: 5.7 MB\n"
     ]
    }
   ],
   "source": [
    "#columnTypeMetrics(df,'object') #Let's take a look at object columns first\n",
    "def columnTypeMetrics(dfin,ctype):\n",
    "    if len(dfin.select_dtypes(include=[ctype]).columns) > 0:\n",
    "        objColumns=dfin.select_dtypes(include=[ctype]).columns\n",
    "        print(\"\\nMain metrics for the\",len(objColumns),ctype,\"columns:\")\n",
    "        for c in objColumns:\n",
    "            print(\"\\nFeature\",c, 'is of type',dfin[c].dtypes, 'with following unique values:')\n",
    "            print(dfin[c].unique())\n",
    "    else: print('No column of type',ctype)\n",
    "\n",
    "# Handle DateTime features\n",
    "for c in dateTimeList: \n",
    "    if debugLevel > 0: print(\"Turned feature\",c,\"from object to dateTime\")\n",
    "    df[c]=pd.to_datetime(df[c],errors='raise') # turn object into dateTime\n",
    "\n",
    "# Handle categories features\n",
    "for c in df.select_dtypes(include=['object']).columns:\n",
    "    if c not in dateTimeList and c not in notCategory :\n",
    "        df[c]=df[c].astype('category')\n",
    "        if debugLevel > 0: print(\"Turned feature\",c,\"from object to category\")\n",
    "df.info()"
   ]
  },
  {
   "cell_type": "markdown",
   "id": "2372dac1",
   "metadata": {},
   "source": [
    "### Turn discrete numeric values into categories when appropriate"
   ]
  },
  {
   "cell_type": "code",
   "execution_count": 929,
   "id": "e2fb10dd",
   "metadata": {},
   "outputs": [
    {
     "name": "stdout",
     "output_type": "stream",
     "text": [
      "<class 'pandas.core.frame.DataFrame'>\n",
      "Int64Index: 30000 entries, 0 to 29999\n",
      "Data columns (total 24 columns):\n",
      " #   Column     Non-Null Count  Dtype \n",
      "---  ------     --------------  ----- \n",
      " 0   LIMIT_BAL  30000 non-null  int64 \n",
      " 1   SEX        30000 non-null  object\n",
      " 2   EDUCATION  30000 non-null  int64 \n",
      " 3   MARRIAGE   30000 non-null  object\n",
      " 4   AGE        30000 non-null  int64 \n",
      " 5   PAY_0      30000 non-null  object\n",
      " 6   PAY_2      30000 non-null  object\n",
      " 7   PAY_3      30000 non-null  object\n",
      " 8   PAY_4      30000 non-null  object\n",
      " 9   PAY_5      30000 non-null  object\n",
      " 10  PAY_6      30000 non-null  object\n",
      " 11  BILL_AMT1  30000 non-null  int64 \n",
      " 12  BILL_AMT2  30000 non-null  int64 \n",
      " 13  BILL_AMT3  30000 non-null  int64 \n",
      " 14  BILL_AMT4  30000 non-null  int64 \n",
      " 15  BILL_AMT5  30000 non-null  int64 \n",
      " 16  BILL_AMT6  30000 non-null  int64 \n",
      " 17  PAY_AMT1   30000 non-null  int64 \n",
      " 18  PAY_AMT2   30000 non-null  int64 \n",
      " 19  PAY_AMT3   30000 non-null  int64 \n",
      " 20  PAY_AMT4   30000 non-null  int64 \n",
      " 21  PAY_AMT5   30000 non-null  int64 \n",
      " 22  PAY_AMT6   30000 non-null  int64 \n",
      " 23  default    30000 non-null  int64 \n",
      "dtypes: int64(16), object(8)\n",
      "memory usage: 5.7+ MB\n"
     ]
    }
   ],
   "source": [
    "# Turn discrete numerical values without order meaning into categories\n",
    "\n",
    "for c in numericCat:\n",
    "    df[c] = df[c].astype('object')\n",
    "    if debugLevel > 0: print(\"Turned feature\",c,\"from numeric to object\")\n",
    "df.info()"
   ]
  },
  {
   "cell_type": "markdown",
   "id": "e28a00fb",
   "metadata": {},
   "source": [
    "## Turn DateTime features into numeric or categorical values\n",
    "This step needs business input and may result in either continuous or discrete values"
   ]
  },
  {
   "cell_type": "code",
   "execution_count": 930,
   "id": "c30cab42",
   "metadata": {},
   "outputs": [],
   "source": [
    "# CUSTOM IMPLEMENTATION\n",
    "if testFile=='proprietary':\n",
    "# For the sake of excercise, we compute the time difference between the values and a fixed datedf['run_date_diff'] = (pd.to_datetime( df['run_date'])-pd.to_datetime('2020-01-01')).dt.days\n",
    "    df['run_date_diff']=(pd.to_datetime( df['run_date'])-pd.to_datetime('2020-01-01')).dt.days\n",
    "    df.drop(columns='run_date',inplace=True)\n",
    "    df.info()"
   ]
  },
  {
   "cell_type": "markdown",
   "id": "f30c489e",
   "metadata": {},
   "source": [
    "## Handle missing data\n",
    "Note that a missing piece of information may materialize in different ways: nan (numeric),naT (dateTime), None (object), but also as a number (e.g. 0 or -1), or other strings (e.g. \"None\",\"?\", \"-\"). How to fill in missing data needs business input, however it is typically safe to remove entire rows that are missing values if their number is relatively small."
   ]
  },
  {
   "cell_type": "code",
   "execution_count": 931,
   "id": "94488d0b",
   "metadata": {},
   "outputs": [
    {
     "name": "stdout",
     "output_type": "stream",
     "text": [
      "\n",
      "Number of rows with at least one null value is 0 , about 0.0 percent of all rows\n",
      "Number of rows with null target: 0\n",
      "\n",
      "Columns with non-zero percent of missing values:\n",
      "No column has null values\n",
      "\n",
      "After dropping columns with more than 10 % of null values:\n",
      "\n",
      "Number of rows with at least one null value is 0 , about 0.0 percent of all rows\n",
      "\n",
      "Columns with non-zero percent of missing values:\n",
      "No column has null values\n",
      "\n",
      "Number of rows with null  target: 0\n"
     ]
    }
   ],
   "source": [
    "def nullColumns(dfin,dropPercent): #prints non-null percentage of missing values per column\n",
    "    print('\\nColumns with non-zero percent of missing values:')\n",
    "    input=dfin.isnull().sum()/len(dfin) #holds non-null percentage of missing values per column\n",
    "    found=0\n",
    "    res=[]\n",
    "    if len(input) >0:\n",
    "        for j in range (len(input)):\n",
    "            if input[j]>0:\n",
    "                print(input.index[j],round(100.0*input[j],2),'% of null values')\n",
    "                if round(100.0*input[j],2) > dropPercent:\n",
    "                    res.append(input.index[j])\n",
    "                found=1\n",
    "    if found==0: print('No column has null values')\n",
    "    return res\n",
    "        \n",
    "def nullRows(dfin): #prints number and percentage of rows with at least one null\n",
    "    nullRows=dfin[dfin.isnull().any(axis=1)]# rows where there are at least one null\n",
    "    print('\\nNumber of rows with at least one null value is',len(nullRows),', about',round(100.0*len(nullRows)/len(dfin),2),'percent of all rows')\n",
    "         \n",
    "#Let's identify the number of rows with at least one nan/None and the percentage of nulls per columns\n",
    "nullRows(df)\n",
    "# Let's check the target values of rows with missing data \n",
    "#print('Number of rows with at least one null value with positive target:',len(df[df.isnull().any(axis=1)][df[target]==targetPositive]))\n",
    "tmp=df[target]\n",
    "print('Number of rows with null target:',len(tmp[tmp.isnull()]))\n",
    "colToDrop=nullColumns(df,dropPercent)\n",
    "\n",
    "# Let's drop the columns with dropPercent or more missing values and see how many rows are still null\n",
    "#if 'cust_recv_actvtn_chnl_code' in df.columns: df.drop(columns=['cust_recv_actvtn_chnl_code'],inplace=True)\n",
    "df.drop(columns=colToDrop,inplace=True)\n",
    "print('\\nAfter dropping columns with more than',dropPercent,'% of null values:')\n",
    "nullRows(df)\n",
    "nullColumns(df,dropPercent)\n",
    "\n",
    "# Let's check the target values of rows with missing data \n",
    "tmp=df[target]\n",
    "print('\\nNumber of rows with null  target:',len(tmp[tmp.isnull()]))\n",
    "\n"
   ]
  },
  {
   "cell_type": "code",
   "execution_count": 932,
   "id": "8cb22b4b",
   "metadata": {},
   "outputs": [],
   "source": [
    "# CUSTOM IMPLEMENTATIONS\n",
    "\n",
    "# implement business specific methods, including row deletion,filling-in etc ...\n",
    "    \n",
    "if testFile=='proprietary':\n",
    "    #only few null rows have positive target, so OK to remove null rows\n",
    "    print('Dropping rows with at least one null value')\n",
    "    df.dropna(axis=0,inplace=True)\n",
    "    #let's deal with rows that have \"None\" strings meaning null\n",
    "    if (len(df[(df == 'None').any(axis=1)]) > 0): \n",
    "        print('Number of rows with value None in at least one column:',len(df[(df == 'None').any(axis=1)]))\n",
    "        print('Dropping rows with value None in at least one columns')\n",
    "        df = df.drop(df[(df == 'None').any(axis=1)].index)\n",
    "    print('Number of rows with value None in at least one column:',len(df[(df == 'None').any(axis=1)]))\n",
    "    #columnTypeMetrics(df,'category')\n",
    "\n",
    "    #Finally, column prmry_cc_type_code seems to have entries with \"#\" values\n",
    "    print('\\nNumber of rows with # in column prmry_cc_type_code:',len(df[df.prmry_cc_type_code== \"#\"]))\n",
    "    #for now let's treat # as a valid category, we can revisit this later, based on business input\n",
    "# END CUSTOM IMPLEMENTATIONS\n",
    "# We now check that only 2 types remain, categories and numbers:\n",
    "\n",
    "if debugLevel > 0: df.info()"
   ]
  },
  {
   "cell_type": "markdown",
   "id": "b266f6db",
   "metadata": {},
   "source": [
    "## Outliers analysis\n",
    "For numerical data only"
   ]
  },
  {
   "cell_type": "code",
   "execution_count": 933,
   "id": "bc6f0963",
   "metadata": {},
   "outputs": [
    {
     "data": {
      "image/png": "[encoded data removed]",
      "text/plain": [
       "<Figure size 720x432 with 2 Axes>"
      ]
     },
     "metadata": {},
     "output_type": "display_data"
    },
    {
     "data": {
      "image/png": "[encoded data removed]",
      "text/plain": [
       "<Figure size 720x432 with 2 Axes>"
      ]
     },
     "metadata": {},
     "output_type": "display_data"
    }
   ],
   "source": [
    "def computeOutliers(data):# For each numerical feature, compute the number and percentage of outliers, per inter-quartile rule, and their ratio of positive target\n",
    "    # We'll use these numbers to decide how to deal with numerical outliers\n",
    "    resp=[]\n",
    "    numColumns=data.select_dtypes(include=['float64','int64']).columns\n",
    "    outLow={} # storing outliers info in the form of {columnName:[lowCount,lowPercent,lowTargetRatio]}\n",
    "    outHigh={} # storing outliers info in the form of {columnName:[highCount,highPercent,highTargetRatio]}\n",
    "\n",
    "    for c in numColumns:\n",
    "        q3 = data[c].quantile(.75)\n",
    "        q1 = data[c].quantile(.25)\n",
    "        IQR = q3 - q1\n",
    "        upper = q3 + outlierIqrRatio * IQR\n",
    "        lower = q1 - outlierIqrRatio * IQR\n",
    "        u=data[data[c] > upper]\n",
    "        l=data[data[c] < lower]\n",
    "        uCount=len(u)\n",
    "        uPercent=round(100.0*uCount/len(data[c]),2)\n",
    "        if len(u) > 0: uTargetRatio=round(100*len(u[u[target]==targetPositive])/len(u),2)\n",
    "        lCount=len(l)\n",
    "        lPercent=round(100.0*lCount/len(data[c]),2)\n",
    "        if len(l) > 0: lTargetRatio=round(100*len(l[l[target]==targetPositive])/len(l),2)\n",
    "        if uCount>0 and IQR != 0:\n",
    "    #         print(c,'high value:',upper, ', # of high:',uCount,', % of high:',uPercent)\n",
    "    #         print(\"Ratio of positive target for high outliers:\",uTargetRatio)\n",
    "            outHigh[c]=[uCount,uPercent,uTargetRatio]\n",
    "        if lCount>0 and IQR != 0:\n",
    "    #         print(c,'Low value:',lower,', # of low:',lCount,', % of low:',lPercent)\n",
    "    #         print(\"Percent of positive target for low outliers:\",lTargetRatio)\n",
    "            outLow[c]=[lCount,lPercent,lTargetRatio]    \n",
    "    #sort from low to high percentages\n",
    "    outLow=dict(sorted(outLow.items(), key=lambda item: item[1]))\n",
    "    outHigh=dict(sorted(outHigh.items(), key=lambda item: item[1]))\n",
    "    resp.append(outLow)\n",
    "    resp.append(outHigh)\n",
    "    return resp\n",
    "\n",
    "def removeOutliers(data): # returns indexes to outlier rows\n",
    "    remove=data.copy() # we don't want to modify data\n",
    "    numColumns=remove.select_dtypes(include=['float64','int64']).columns\n",
    "    for c in numColumns:\n",
    "        q3 = remove[c].quantile(.75)\n",
    "        q1 = remove[c].quantile(.25)\n",
    "        IQR = q3 - q1\n",
    "        upper = q3 + outlierIqrRatio * IQR\n",
    "        lower = q1 - outlierIqrRatio * IQR\n",
    "        if IQR != 0:\n",
    "            before=remove.shape\n",
    "            remove = remove[remove[c] < upper]\n",
    "            remove = remove[remove[c] >  lower]\n",
    "            if before != remove.shape:\n",
    "                print('Removing outliers for column=',c)\n",
    "                print(remove.shape)\n",
    "    return remove\n",
    "        \n",
    "# Let's graph this info\n",
    "def plotOutliers(data,title):\n",
    "    temp1=[]\n",
    "    temp2=[]\n",
    "    titleSize=14\n",
    "    textSize=12\n",
    "    for c in data:\n",
    "        temp1.append(data[c][1])\n",
    "        temp2.append(data[c][2])\n",
    "    fig, ax = plt.subplots()\n",
    "    fig.set_size_inches(10, 6)\n",
    "    ax.set_title(title,fontsize=titleSize)\n",
    "    ax.set_xlabel(\"Features\",fontsize=textSize)\n",
    "    ax.set_ylabel('Percent total samples',color='c')\n",
    "    ax.bar(data.keys(),temp1, label='Percent of total samples',color='c')\n",
    "    ax.set_xticklabels(data.keys(),rotation = 90)\n",
    "    ax.tick_params(axis='y', labelsize=textSize, labelcolor='c')\n",
    "    ax.tick_params(axis='x', labelsize=textSize)\n",
    "    ax2 = ax.twinx()\n",
    "    ax2.plot(data.keys(),temp2, color='green', label='Target ratio')\n",
    "    ax2.tick_params(axis='both', labelsize=textSize, labelcolor='green')\n",
    "    ax2.set_ylabel('Target ratio',color='green')\n",
    "    plt.show()\n",
    "\n",
    "out=computeOutliers(df)\n",
    "plotOutliers(out[0],\"Low outliers percentage and positive target ratio\")\n",
    "plotOutliers(out[1],\"High outliers percentage and positive target ratio\")"
   ]
  },
  {
   "cell_type": "code",
   "execution_count": 934,
   "id": "f06077ba",
   "metadata": {},
   "outputs": [],
   "source": [
    "# CUSTOM IMPLEMENTATIONS\n",
    "#decide what outliers to remove, for instance the ones with less than 1% outlier and less than twice the positive target ratio.\n",
    "# since we are dealing with imbalanced dataset, we will not remove outliers by default as they may hold important information."
   ]
  },
  {
   "cell_type": "markdown",
   "id": "ebe7928b",
   "metadata": {},
   "source": [
    "## Remove duplicate rows"
   ]
  },
  {
   "cell_type": "code",
   "execution_count": 935,
   "id": "0c742ac3",
   "metadata": {},
   "outputs": [],
   "source": [
    "df.drop_duplicates(inplace=True)"
   ]
  },
  {
   "cell_type": "code",
   "execution_count": 936,
   "id": "acd920a6",
   "metadata": {},
   "outputs": [],
   "source": [
    "if doViz==1:\n",
    "    report=sw.analyze(df,pairwise_analysis='off')\n",
    "    report.show_html('out_html',open_browser=True)"
   ]
  },
  {
   "cell_type": "markdown",
   "id": "a3fc9555",
   "metadata": {},
   "source": [
    "### Categorical initial feature independence\n",
    "Perform initial categorical feature selection using Cramer's V metric and threshold (between 0 and 1)"
   ]
  },
  {
   "cell_type": "code",
   "execution_count": 937,
   "id": "0d0aed4c",
   "metadata": {
    "scrolled": true
   },
   "outputs": [
    {
     "name": "stdout",
     "output_type": "stream",
     "text": [
      "No categorical feature will be dropped\n"
     ]
    }
   ],
   "source": [
    "#we'll apply Cramer's V to assess correlation between each category feature and the target\n",
    "catdf=df.select_dtypes(exclude='number')\n",
    "catDependent=[]\n",
    "left=[]\n",
    "err=[]\n",
    "j=0\n",
    "for c in catdf.columns:\n",
    "    j=j+1\n",
    "    for i in range (len(catdf.columns)):\n",
    "        if i>=j:\n",
    "            try:  \n",
    "                crosstab =np.array(pd.crosstab(catdf[c],catdf[catdf.columns[i]], rownames=None, colnames=None)) # Cross table building\n",
    "                stat = chi2_contingency(crosstab)[0] # Keeping of the test statistic of the Chi2 test\n",
    "                obs = np.sum(crosstab) # Number of observations\n",
    "                mini = min(crosstab.shape)-1 # Take the minimum value between the columns and the rows of the cross table\n",
    "                v=(stat/(obs*mini))\n",
    "                #print('1st column:',c,'2nd column:',catdf.columns[i],'Cramers value:',v)\n",
    "                if v > cramersThreshold:\n",
    "                    catDependent.append(catdf.columns[i])\n",
    "                else:\n",
    "                    left.append(c)\n",
    "            except:\n",
    "                print(\"X2 could not be computed for feature\",c,\"with error: The internally computed table of expected frequencies has a zero element\")\n",
    "                err.append(c)\n",
    "#dedupe\n",
    "catDependent = list(dict.fromkeys(catDependent))\n",
    "\n",
    "if len(err) > 0: print(\"Cramer's V could not be computed for following features,\\nwith error: The internally computed table of expected frequencies has a zero element. These features will not be removed:\",err)    \n",
    "if len(catDependent) > 0: print(\"\\nFollowing features will be dropped, as their cramer's V values are over threshold\",cramersThreshold,\":\\n\",catDependent)\n",
    "else: print(\"No categorical feature will be dropped\")\n",
    "# if len(left) > 0: print(\"\\nFollowing features will be preserved, as their cramer's V values are over threshold\",cramersThreshold,\":\\n\",left)\n",
    "# else: print(\"No categorical feature is left!\")"
   ]
  },
  {
   "cell_type": "markdown",
   "id": "869826d9",
   "metadata": {},
   "source": [
    "## Turn categorical features into numeric values"
   ]
  },
  {
   "cell_type": "markdown",
   "id": "dc346932",
   "metadata": {},
   "source": [
    "### Ordinal encoding\n",
    "For string categories with rank, e.g. education levels"
   ]
  },
  {
   "cell_type": "code",
   "execution_count": 938,
   "id": "f0fea0ff",
   "metadata": {},
   "outputs": [],
   "source": [
    "# handle ordinalCategory e.g. {'education':{'noEdu':0,'highSchool':1,'higher':2},{...}}\n",
    "\n",
    "for f in ordinalCategory:\n",
    "    if f in df.columns: # in case it was already performed\n",
    "        name=subOrdinal+f\n",
    "        df[f] = df[f].map(ordinalCategory[f])\n",
    "        df.rename(columns = {f:name}, inplace = True)\n",
    "        df[name] = df[name].astype('int64')\n",
    "        if debugLevel > 0: print(\"Ordinal encoding feature\",f,\"into\",name)"
   ]
  },
  {
   "cell_type": "markdown",
   "id": "0b52d536",
   "metadata": {},
   "source": [
    "### One hot encoding\n",
    "When number of categories is larger than dummyMaxCount, we substitute low frequency labels with otherLabel before one-hot encoding"
   ]
  },
  {
   "cell_type": "code",
   "execution_count": 939,
   "id": "b9419f7f",
   "metadata": {},
   "outputs": [],
   "source": [
    "def processOneHot(data):\n",
    "    col=data.columns\n",
    "    #first we consolidate all labels beyond dummyMaxCount into label named 'otherLabel'\n",
    "    for i in range(len(col)):\n",
    "        data[col[i]] = data[col[i]].astype('object') # need to set type to 'object' else won't be able to set a new label value\n",
    "        if len(data[col[i]].value_counts()) > dummyMaxCount: # we have too many labels to one-hot encode them all\n",
    "            tops=data[col[i]].value_counts().index[0:dummyMaxCount]\n",
    "            print(\"feature\",col[i],\"has too many labels, we'll assign the -\",otherLabel,\"- label to all entries ranked below\",dummyMaxCount)\n",
    "            n=0\n",
    "            for j in range(len(data)): #we are turning every label past the dummyMaxCount-th into otherLabel\n",
    "                if(data[col[i]].iloc[j]) not in tops:\n",
    "                    data[col[i]].iloc[j]=otherLabel      \n",
    "                    n=n+1\n",
    "            if debugLevel > 0: print(\"put\",n,\"items in\", otherLabel,\" cat, out of total rows=\",len(df))\n",
    "\n",
    "    for i in range(len(col)):\n",
    "        if debugLevel > 0: print(\"Feature\",col[i],\"will be one-hot encoded, resulting in names (one per label):\",str(col[i])+\"_label, skipping first label\")\n",
    "    \n",
    "    return(get_dummies(data,drop_first=True,prefix=col,dtype=\"int64\"))\n",
    "    "
   ]
  },
  {
   "cell_type": "code",
   "execution_count": 940,
   "id": "bd4e752e",
   "metadata": {},
   "outputs": [
    {
     "name": "stdout",
     "output_type": "stream",
     "text": [
      "numericdf shape (29965, 16)\n",
      "catdf shape (29965, 8)\n",
      "feature PAY_0 has too many labels, we'll assign the - otherOH - label to all entries ranked below 10\n",
      "feature PAY_2 has too many labels, we'll assign the - otherOH - label to all entries ranked below 10\n",
      "feature PAY_3 has too many labels, we'll assign the - otherOH - label to all entries ranked below 10\n",
      "feature PAY_4 has too many labels, we'll assign the - otherOH - label to all entries ranked below 10\n",
      "catdfoh shape (29965, 62)\n"
     ]
    }
   ],
   "source": [
    "# to test this cell only\n",
    "# data=[['high6',0],['high1',2],['high2',0],['high',5],['high',0],['high5',0],['low',1],['med',7]]\n",
    "# df=pd.DataFrame(data,columns=['tide','age'])\n",
    "# print(df)\n",
    "# dummyMaxCount=3\n",
    "\n",
    "catdf=df.select_dtypes(exclude='number')\n",
    "numericdf=df.select_dtypes(include='number')\n",
    "print('numericdf shape',numericdf.shape)\n",
    "targetdf=df[target]\n",
    "\n",
    "if target in catdf.columns: catdf=catdf.drop(columns=[target])\n",
    "print('catdf shape',catdf.shape)\n",
    "\n",
    "if catdf.shape[1]>0:\n",
    "    catdfoh=processOneHot(catdf)\n",
    "    print('catdfoh shape',catdfoh.shape)"
   ]
  },
  {
   "cell_type": "markdown",
   "id": "cc34a353",
   "metadata": {},
   "source": [
    "### Change float64 type to int64 when possible"
   ]
  },
  {
   "cell_type": "code",
   "execution_count": 941,
   "id": "c61dc695",
   "metadata": {
    "scrolled": true
   },
   "outputs": [],
   "source": [
    "#  columns with float64 types: can we convert them to int64?\n",
    "floatColumns=df.select_dtypes(include=['float64']).columns\n",
    "for c in floatColumns:\n",
    "    f=False\n",
    "    v=df[c].values\n",
    "    for i in range (len(v)):\n",
    "        if v[i].is_integer() != True:\n",
    "            f=True # at least one value is not int\n",
    "            break\n",
    "    if f==False:\n",
    "        print('Turning feature',c,'from float64 into int64')\n",
    "        df[c]=df[c].astype('int64')\n",
    "\n",
    "if debugLevel > 0: df.info()"
   ]
  },
  {
   "cell_type": "markdown",
   "id": "6c6f0225",
   "metadata": {},
   "source": [
    "## End of  model-independent data engineering."
   ]
  },
  {
   "cell_type": "markdown",
   "id": "25c8dc4a",
   "metadata": {},
   "source": [
    "## Start impact of data+feature engineering on model score"
   ]
  },
  {
   "cell_type": "code",
   "execution_count": 942,
   "id": "12f59fd8",
   "metadata": {},
   "outputs": [],
   "source": [
    "def processModelSklearn(model,X_train,y_train,X_test,y_test, metric, seed,w):\n",
    "    if w==\"\": model.fit(X_train,y_train)\n",
    "    else: model.fit(X_train,y_train,sample_weight=w)\n",
    "    y_pred_proba=model.predict_proba(X_test)\n",
    "    y_pred=model.predict(X_test)\n",
    "    if metric==\"roc_auc\":\n",
    "        result = round(metrics.roc_auc_score(y_test, y_pred_proba[:, 1]),3)\n",
    "    elif metric==\"recall\":\n",
    "        result = round(metrics.recall_score(y_test, y_pred),3)\n",
    "    elif metric==\"f1\":\n",
    "        result = round(metrics.f1_score(y_test, y_pred),3)\n",
    "    else: \n",
    "        print(\"We dont support this metric,\",metric,\" aborting\")\n",
    "        exit(1)\n",
    "    return result\n",
    "    "
   ]
  },
  {
   "cell_type": "code",
   "execution_count": 943,
   "id": "e3fd8068",
   "metadata": {},
   "outputs": [],
   "source": [
    "def processAnomaly(modelName,X_train,y_train,X_test,y_test, metric, cont):\n",
    "    if modelName=='iForest':\n",
    "        clf = IForest(contamination=cont)\n",
    "    if modelName=='autoencoder':\n",
    "        clf=AutoEncoder(hidden_neurons=[int(len(X_train.columns)/4), int(len(X_train.columns)/8), int(len(X_train.columns)/8), int(len(X_train.columns)/4)], hidden_activation='relu', optimizer='adam', epochs=epochAutoencoder, batch_size=32, dropout_rate=0.2, validation_size=0.3, preprocessing=False, verbose=debugLevel, random_state=randomSeed, contamination=cont)\n",
    "\n",
    "    clf.fit(X_train)\n",
    "\n",
    "    # get the prediction on the test data\n",
    "    y_test_pred = clf.predict(X_test)  # outlier labels (0 or 1)\n",
    "    y_test_scores = clf.decision_function(X_test)  # outlier scores\n",
    "\n",
    "    if (metric==\"roc_auc\"):\n",
    "        result=np.round(roc_auc_score(y_test, y_test_scores), decimals=3)\n",
    "    if (metric==\"recall\"):\n",
    "        result=np.round(recall_score(y_test, y_test_pred), decimals=3)\n",
    "    if (metric==\"f1\"):\n",
    "        result=np.round(f1_score(y_test, y_test_pred), decimals=3)\n",
    "        \n",
    "    return result"
   ]
  },
  {
   "cell_type": "code",
   "execution_count": 944,
   "id": "8cf0940f",
   "metadata": {},
   "outputs": [],
   "source": [
    "# utility functions to define f1 for Keras\n",
    "def recall_m(y_true, y_pred):\n",
    "    true_positives = K.sum(K.round(K.clip(y_true * y_pred, 0, 1)))\n",
    "    possible_positives = K.sum(K.round(K.clip(y_true, 0, 1)))\n",
    "    recall = true_positives / (possible_positives + K.epsilon())\n",
    "    return recall\n",
    "\n",
    "def precision_m(y_true, y_pred):\n",
    "    true_positives = K.sum(K.round(K.clip(y_true * y_pred, 0, 1)))\n",
    "    predicted_positives = K.sum(K.round(K.clip(y_pred, 0, 1)))\n",
    "    precision = true_positives / (predicted_positives + K.epsilon())\n",
    "    return precision\n",
    "\n",
    "def f1_m(y_true, y_pred):\n",
    "    precision = precision_m(y_true, y_pred)\n",
    "    recall = recall_m(y_true, y_pred)\n",
    "    return 2*((precision*recall)/(precision+recall+K.epsilon()))"
   ]
  },
  {
   "cell_type": "code",
   "execution_count": 945,
   "id": "20f207da",
   "metadata": {},
   "outputs": [],
   "source": [
    "def processKeras(model,X,y,X_t,y_t, metric,seed,ratio):\n",
    "    #hack, for some reason I need to redefine it ... else it uses the old number of features.\n",
    "    model=tf.keras.Sequential([layers.Dense(int(len(df.columns)/2), activation='relu'),layers.Dense(1,activation='sigmoid')])\n",
    "    if metric==\"roc_auc\":\n",
    "        met=[tf.keras.metrics.AUC()]\n",
    "    elif metric==\"recall\":\n",
    "        met=[tf.keras.metrics.Recall()]\n",
    "    elif metric==\"f1\":\n",
    "        met=[f1_m]\n",
    "    else: \n",
    "        print(\"We dont support this metric,\",metric,\" aborting\")\n",
    "        exit(1)\n",
    "    model.compile(optimizer='adam',loss='binary_crossentropy',metrics=met)\n",
    "    callback=tf.keras.callbacks.EarlyStopping(monitor='val_loss',patience=1,mode='min')\n",
    "    if ratio==\"\":\n",
    "        model.fit(X, y, epochs=epochCount,verbose=debugLevel,callbacks=[callback],validation_data=(X_t,y_t))\n",
    "    else:\n",
    "        weights={0:1.0,1:ratio}\n",
    "        model.fit(X, y, epochs=epochCount,verbose=debugLevel,class_weight=weights,callbacks=[callback],validation_data=(X_t,y_t))\n",
    "    print(model.summary())\n",
    "    result=model.evaluate(x=X_t,y=y_t)\n",
    "    return round(result[1],3)"
   ]
  },
  {
   "cell_type": "code",
   "execution_count": 946,
   "id": "fb234f9a",
   "metadata": {},
   "outputs": [],
   "source": [
    "def processAllModels(data, metric,seed,sampler,w):\n",
    "    s={}\n",
    "    #weight can be \"\", or \"auto\", or a specific value. we should not have wieghts set alongside sampler param, they are mutually exclusive.\n",
    "    y=data[target]\n",
    "    X=data.drop(columns=[target])\n",
    "    X_train, X_test, y_train, y_test = train_test_split(X, y, test_size=percentHoldout,random_state=randomSeed,stratify=y)\n",
    "    print(\"Size of X training set is \",X_train.shape)\n",
    "    print(\"Size of X validation set is\",X_test.shape)\n",
    "    print(\"Target count: negative, positive\",y_train.value_counts()[abs(1-targetPositive)],y_train.value_counts()[targetPositive])\n",
    "    \n",
    "    if w != \"\":\n",
    "        if w == 'auto':\n",
    "            ratio=round(y_train.value_counts()[0]/y_train.value_counts()[1],2)\n",
    "        else: ratio= w\n",
    "        print(\"Weight mode is\",w,\"Weight ratio is\",ratio)\n",
    "        weights=np.zeros(len(y_train))\n",
    "        for i in range(len(y_train)):\n",
    "            if y_train.iloc[i]==0: weights[i]=1\n",
    "            else: weights[i]=ratio\n",
    "                \n",
    "    if sampler != \"\":\n",
    "        if w != \"\":\n",
    "            print(\"cannot set training weights AND resampling, aborting\")\n",
    "            exit(1)\n",
    "        X_train, y_train = sampler.fit_resample(X_train, y_train)\n",
    "        print(\"After resampling, size of training data is\",X_train.shape,\". Validation set is unchanged\")\n",
    "        print(\"Target count: negative, positive\",y_train.value_counts()[abs(1-targetPositive)],y_train.value_counts()[targetPositive])\n",
    "    \n",
    "    for n in allModels:\n",
    "        if n['type']=='sklearn':\n",
    "            if w == \"\":\n",
    "                res=processModelSklearn(n['handle'],X_train,y_train,X_test,y_test, metric, seed,\"\")\n",
    "            else:\n",
    "                res=processModelSklearn(n['handle'],X_train,y_train,X_test,y_test, metric, seed,weights)\n",
    "        elif n['type']=='keras':\n",
    "            if w == \"\":\n",
    "                res=processKeras(n['handle'],X_train,y_train,X_test,y_test, metric, seed,\"\")\n",
    "            else:\n",
    "                res=processKeras(n['handle'],X_train,y_train,X_test,y_test, metric, seed,ratio)\n",
    "        elif n['type']=='anomaly':\n",
    "            contamination =1.0 - len(data[data[target]==0])/len(data) # percentage of outliers\n",
    "            print(\"Contamination set to\",contamination)\n",
    "            res = processAnomaly(n['name'],X_train,y_train,X_test,y_test, metric, contamination)\n",
    "        else: \n",
    "            print(\"WRONG Model Type, exiting ...\")\n",
    "            exit(1)\n",
    "        print(\"For classifier\",n['name'],metric,\"is\",res)\n",
    "        s[n['name']]=res\n",
    "    \n",
    "    return s\n",
    "    "
   ]
  },
  {
   "cell_type": "code",
   "execution_count": 947,
   "id": "2112371d",
   "metadata": {},
   "outputs": [],
   "source": [
    "stageResults={} # will hold all the stage resuts, [metric1:{\"stageX\":{catboost:result,'logRegression':result,\"NN\":results}},...]"
   ]
  },
  {
   "cell_type": "markdown",
   "id": "7359fb2b",
   "metadata": {},
   "source": [
    "### Stage 'baseline' aka obvious classifiers\n",
    "We can devise basic classifiers (e.g. random, always majority) that we need to baseline and beat with our models.\n",
    "See https://medium.com/@lermantp/imbalanced-datasets-a-case-for-normalized-metric-gain-b61afc753d3e#67ab-5369f80ddbbf"
   ]
  },
  {
   "cell_type": "code",
   "execution_count": 948,
   "id": "ce17e63c",
   "metadata": {},
   "outputs": [
    {
     "name": "stdout",
     "output_type": "stream",
     "text": [
      "Baseline is 0.5\n"
     ]
    }
   ],
   "source": [
    "if mainMetric==\"roc_auc\":\n",
    "    baseline=.5\n",
    "elif mainMetric==\"recall\":\n",
    "    baseline=.5\n",
    "elif mainMetric==\"f1\": # 2*P / (2*P+1) with P percentage of positive labels\n",
    "    baseline= round(2* positivePercent / (2*positivePercent + 1),4)\n",
    "print('Baseline is',baseline)"
   ]
  },
  {
   "cell_type": "markdown",
   "id": "4738dbfb",
   "metadata": {},
   "source": [
    "### Stage 'Initial'\n",
    "We now have a clean dataset, let's perform a first round evaluation of our models"
   ]
  },
  {
   "cell_type": "code",
   "execution_count": 949,
   "id": "884e7e64",
   "metadata": {},
   "outputs": [
    {
     "name": "stdout",
     "output_type": "stream",
     "text": [
      "df shape is (29965, 78)\n",
      "Size of X training set is  (20975, 77)\n",
      "Size of X validation set is (8990, 77)\n",
      "Target count: negative, positive 16334 4641\n",
      "For classifier catboost roc_auc is 0.779\n",
      "For classifier logregress roc_auc is 0.649\n",
      "Model: \"sequential_218\"\n",
      "_________________________________________________________________\n",
      " Layer (type)                Output Shape              Param #   \n",
      "=================================================================\n",
      " dense_915 (Dense)           (None, 39)                3042      \n",
      "                                                                 \n",
      " dense_916 (Dense)           (None, 1)                 40        \n",
      "                                                                 \n",
      "=================================================================\n",
      "Total params: 3,082\n",
      "Trainable params: 3,082\n",
      "Non-trainable params: 0\n",
      "_________________________________________________________________\n",
      "None\n",
      "281/281 [==============================] - 0s 743us/step - loss: 133.2429 - auc_28: 0.5107\n",
      "For classifier ffnn roc_auc is 0.511\n",
      "Contamination set to 0.22125813449023857\n",
      "For classifier iForest roc_auc is 0.638\n",
      "Contamination set to 0.22125813449023857\n",
      "656/656 [==============================] - 1s 858us/step\n",
      "281/281 [==============================] - 0s 836us/step\n",
      "281/281 [==============================] - 0s 861us/step\n",
      "For classifier autoencoder roc_auc is 0.404\n",
      "\n",
      "Stage initial results:\n",
      "{'initial': {'catboost': 0.779, 'logregress': 0.649, 'ffnn': 0.511, 'iForest': 0.638, 'autoencoder': 0.404}}\n"
     ]
    }
   ],
   "source": [
    "if catdf.shape[1]>0:\n",
    "    df=catdfoh.join(numericdf)\n",
    "if target not in df.columns:\n",
    "    df[target]=targetdf\n",
    "print(\"df shape is\",df.shape)\n",
    "stageResults['initial']=(processAllModels(df, mainMetric, randomSeed,\"\",\"\"))\n",
    "print(\"\\nStage initial results:\")\n",
    "print(stageResults)"
   ]
  },
  {
   "cell_type": "markdown",
   "id": "7191618c",
   "metadata": {},
   "source": [
    "## Power Transformation\n",
    "Apply a power transform featurewise to make data more Gaussian-like. Zero-mean, unit-variance normalization is applied to the transformed data."
   ]
  },
  {
   "cell_type": "code",
   "execution_count": 950,
   "id": "9b765a03",
   "metadata": {},
   "outputs": [],
   "source": [
    "def powerTransform(data):\n",
    "    if target in data.columns: \n",
    "        X = data.drop(columns=[target])\n",
    "    else: X=data\n",
    "    xColumns=X.columns\n",
    "    pt = PowerTransformer(method='yeo-johnson')\n",
    "    print(\"Applying powerTransform to all numerical data, make sure to save the lambdas to apply to new incoming data\\n\")\n",
    "    # we sometimes get power errors during transform, so we have to handle each column separately and provide fall-back\n",
    "    for c in xColumns:\n",
    "        # check that we have entries other than 0 and 1, which we want to leave alone\n",
    "        u=df[c].unique()\n",
    "        if (len(u) == 2) and (0 in u and 1 in u): \n",
    "            #print(\"leaving alone because only 0s and 1s:\",c)\n",
    "            continue # leave data alone\n",
    "        else:\n",
    "            a=X[c].array.reshape(-1, 1)\n",
    "            try: tmp=pt.fit_transform(a)\n",
    "            except: \n",
    "                print(\"Encountered error processing feature\",c,\", adding 1000 + min to each value and recompute ..\")\n",
    "                add=a.min()+1000\n",
    "                a=a+add\n",
    "                tmp=pt.fit_transform(a)\n",
    "            data[c]=tmp\n",
    "    return (data)"
   ]
  },
  {
   "cell_type": "markdown",
   "id": "d01a9c56",
   "metadata": {},
   "source": [
    "### Stage 'powerTransform'\n",
    "Assessing model gain after power transform, without outlier removal"
   ]
  },
  {
   "cell_type": "code",
   "execution_count": 951,
   "id": "127a08af",
   "metadata": {},
   "outputs": [
    {
     "name": "stdout",
     "output_type": "stream",
     "text": [
      "Applying powerTransform to all numerical data, make sure to save the lambdas to apply to new incoming data\n",
      "\n",
      "Size of X training set is  (20975, 77)\n",
      "Size of X validation set is (8990, 77)\n",
      "Target count: negative, positive 16334 4641\n",
      "For classifier catboost roc_auc is 0.779\n",
      "For classifier logregress roc_auc is 0.774\n",
      "Model: \"sequential_220\"\n",
      "_________________________________________________________________\n",
      " Layer (type)                Output Shape              Param #   \n",
      "=================================================================\n",
      " dense_924 (Dense)           (None, 39)                3042      \n",
      "                                                                 \n",
      " dense_925 (Dense)           (None, 1)                 40        \n",
      "                                                                 \n",
      "=================================================================\n",
      "Total params: 3,082\n",
      "Trainable params: 3,082\n",
      "Non-trainable params: 0\n",
      "_________________________________________________________________\n",
      "None\n",
      "281/281 [==============================] - 0s 1ms/step - loss: 0.4356 - auc_29: 0.7765\n",
      "For classifier ffnn roc_auc is 0.776\n",
      "Contamination set to 0.22125813449023857\n",
      "For classifier iForest roc_auc is 0.671\n",
      "Contamination set to 0.22125813449023857\n",
      "656/656 [==============================] - 1s 1ms/step\n",
      "281/281 [==============================] - 0s 1ms/step\n",
      "281/281 [==============================] - 0s 1ms/step\n",
      "For classifier autoencoder roc_auc is 0.539\n",
      "\n",
      "Stage powerTransform results:\n",
      "{'initial': {'catboost': 0.779, 'logregress': 0.649, 'ffnn': 0.511, 'iForest': 0.638, 'autoencoder': 0.404}, 'powerTransform': {'catboost': 0.779, 'logregress': 0.774, 'ffnn': 0.776, 'iForest': 0.671, 'autoencoder': 0.539}}\n"
     ]
    }
   ],
   "source": [
    "df=powerTransform(df)\n",
    "stageResults['powerTransform']=(processAllModels(df, mainMetric, randomSeed,\"\",\"\"))\n",
    "print(\"\\nStage powerTransform results:\")\n",
    "print(stageResults)"
   ]
  },
  {
   "cell_type": "markdown",
   "id": "a664067c",
   "metadata": {},
   "source": [
    "### Stage 'powerTransformNoOutlier'\n",
    "Assessing model gain after power transform, with outlier removal"
   ]
  },
  {
   "cell_type": "code",
   "execution_count": 952,
   "id": "a7a41951",
   "metadata": {},
   "outputs": [
    {
     "name": "stdout",
     "output_type": "stream",
     "text": [
      "(29965, 78)\n",
      "Removing outliers for column= EDUCATION\n",
      "(29900, 78)\n",
      "Removing outliers for column= BILL_AMT1\n",
      "(27992, 78)\n",
      "Removing outliers for column= BILL_AMT2\n",
      "(27029, 78)\n",
      "Removing outliers for column= BILL_AMT3\n",
      "(26483, 78)\n",
      "Removing outliers for column= BILL_AMT4\n",
      "(25757, 78)\n",
      "Removing outliers for column= BILL_AMT5\n",
      "(24875, 78)\n",
      "Removing outliers for column= BILL_AMT6\n",
      "(24163, 78)\n",
      "Removing outliers for column= PAY_AMT1\n",
      "(23549, 78)\n",
      "Removing outliers for column= PAY_AMT2\n",
      "(23020, 78)\n",
      "Removing outliers for column= PAY_AMT3\n",
      "(22818, 78)\n",
      "Removing outliers for column= PAY_AMT4\n",
      "(22817, 78)\n",
      "Removing outliers for column= PAY_AMT5\n",
      "(22816, 78)\n",
      "Removing outliers for column= PAY_AMT6\n",
      "(22814, 78)\n",
      "Size of X training set is  (15969, 77)\n",
      "Size of X validation set is (6845, 77)\n",
      "Target count: negative, positive 12221 3748\n",
      "For classifier catboost roc_auc is 0.777\n",
      "For classifier logregress roc_auc is 0.771\n",
      "Model: \"sequential_222\"\n",
      "_________________________________________________________________\n",
      " Layer (type)                Output Shape              Param #   \n",
      "=================================================================\n",
      " dense_933 (Dense)           (None, 39)                3042      \n",
      "                                                                 \n",
      " dense_934 (Dense)           (None, 1)                 40        \n",
      "                                                                 \n",
      "=================================================================\n",
      "Total params: 3,082\n",
      "Trainable params: 3,082\n",
      "Non-trainable params: 0\n",
      "_________________________________________________________________\n",
      "None\n",
      "214/214 [==============================] - 0s 953us/step - loss: 0.4482 - auc_30: 0.7729\n",
      "For classifier ffnn roc_auc is 0.773\n",
      "Contamination set to 0.23468045936705528\n",
      "For classifier iForest roc_auc is 0.658\n",
      "Contamination set to 0.23468045936705528\n",
      "500/500 [==============================] - 1s 822us/step\n",
      "214/214 [==============================] - 0s 881us/step\n",
      "214/214 [==============================] - 0s 864us/step\n",
      "For classifier autoencoder roc_auc is 0.581\n",
      "\n",
      "Stage powerTransformNoOLresults:\n",
      "{'initial': {'catboost': 0.779, 'logregress': 0.649, 'ffnn': 0.511, 'iForest': 0.638, 'autoencoder': 0.404}, 'powerTransform': {'catboost': 0.779, 'logregress': 0.774, 'ffnn': 0.776, 'iForest': 0.671, 'autoencoder': 0.539}, 'powerTransformNoOL': {'catboost': 0.777, 'logregress': 0.771, 'ffnn': 0.773, 'iForest': 0.658, 'autoencoder': 0.581}}\n"
     ]
    }
   ],
   "source": [
    "# remove outliers\n",
    "print(df.shape)\n",
    "start=df.shape[0]\n",
    "dfNoOutlier=removeOutliers(df)\n",
    "outlierTotalCount=start-len(dfNoOutlier)\n",
    "stageResults['powerTransformNoOL']=(processAllModels(dfNoOutlier, mainMetric, randomSeed,\"\",\"\"))\n",
    "print(\"\\nStage powerTransformNoOLresults:\")\n",
    "print(stageResults)"
   ]
  },
  {
   "cell_type": "markdown",
   "id": "a37479f5",
   "metadata": {},
   "source": [
    "## Feature collinearity processing"
   ]
  },
  {
   "cell_type": "markdown",
   "id": "c2f71f5f",
   "metadata": {},
   "source": [
    "### Numeric collinearity"
   ]
  },
  {
   "cell_type": "code",
   "execution_count": 953,
   "id": "de7c73d2",
   "metadata": {
    "scrolled": true
   },
   "outputs": [
    {
     "name": "stdout",
     "output_type": "stream",
     "text": [
      "Computing Pearson collinearity\n"
     ]
    }
   ],
   "source": [
    "#Pearson for metric columns \n",
    "print(\"Computing Pearson collinearity\")\n",
    "corr = df.corr() # do df.corr('spearman') if switch to spearman\n",
    "removePearson=[]\n",
    "j=-1\n",
    "for c in df.columns:\n",
    "    j=j+1\n",
    "    for i in range (len(corr)):\n",
    "        if (i>j) and (abs(corr[c][i]) >= corrThreshold and (c in numericdf.columns)) : # do not touch non-numeric columns\n",
    "            removePearson.append(corr.index[i])\n",
    "            if debugLevel > 0: print(\"Removing\",corr.index[i],\" with abs. colinerity with\",c,\"=\",corr[c][i], \"greater than threshod\",corrThreshold)\n",
    "        "
   ]
  },
  {
   "cell_type": "markdown",
   "id": "f4c58815",
   "metadata": {},
   "source": [
    "### Stage 'Collinearity'\n",
    "Assessing model gain after feature collinearity (numeric) and dependence (category) removal, based on respective thresholds"
   ]
  },
  {
   "cell_type": "code",
   "execution_count": 954,
   "id": "7533ba26",
   "metadata": {
    "scrolled": true
   },
   "outputs": [
    {
     "name": "stdout",
     "output_type": "stream",
     "text": [
      "feature PAY_0 has too many labels, we'll assign the - otherOH - label to all entries ranked below 10\n",
      "feature PAY_2 has too many labels, we'll assign the - otherOH - label to all entries ranked below 10\n",
      "feature PAY_3 has too many labels, we'll assign the - otherOH - label to all entries ranked below 10\n",
      "feature PAY_4 has too many labels, we'll assign the - otherOH - label to all entries ranked below 10\n",
      "catdfoh shape, after removing 0 category features (29965, 62)\n",
      "df shape, after ohe and target are added (29965, 78)\n",
      "df shape, after removing 0 numeric collinear features is (29965, 78)\n",
      "Applying powerTransform to all numerical data, make sure to save the lambdas to apply to new incoming data\n",
      "\n",
      "Size of X training set is  (20975, 77)\n",
      "Size of X validation set is (8990, 77)\n",
      "Target count: negative, positive 16334 4641\n",
      "For classifier catboost roc_auc is 0.779\n",
      "For classifier logregress roc_auc is 0.774\n",
      "Model: \"sequential_224\"\n",
      "_________________________________________________________________\n",
      " Layer (type)                Output Shape              Param #   \n",
      "=================================================================\n",
      " dense_942 (Dense)           (None, 39)                3042      \n",
      "                                                                 \n",
      " dense_943 (Dense)           (None, 1)                 40        \n",
      "                                                                 \n",
      "=================================================================\n",
      "Total params: 3,082\n",
      "Trainable params: 3,082\n",
      "Non-trainable params: 0\n",
      "_________________________________________________________________\n",
      "None\n",
      "281/281 [==============================] - 0s 957us/step - loss: 0.4347 - auc_31: 0.7762\n",
      "For classifier ffnn roc_auc is 0.776\n",
      "Contamination set to 0.22125813449023857\n",
      "For classifier iForest roc_auc is 0.663\n",
      "Contamination set to 0.22125813449023857\n",
      "656/656 [==============================] - 1s 884us/step\n",
      "281/281 [==============================] - 0s 761us/step\n",
      "281/281 [==============================] - 0s 816us/step\n",
      "For classifier autoencoder roc_auc is 0.539\n",
      "\n",
      "Stage collinearity results:\n",
      "{'initial': {'catboost': 0.779, 'logregress': 0.649, 'ffnn': 0.511, 'iForest': 0.638, 'autoencoder': 0.404}, 'powerTransform': {'catboost': 0.779, 'logregress': 0.774, 'ffnn': 0.776, 'iForest': 0.671, 'autoencoder': 0.539}, 'powerTransformNoOL': {'catboost': 0.777, 'logregress': 0.771, 'ffnn': 0.773, 'iForest': 0.658, 'autoencoder': 0.581}, 'collinearity': {'catboost': 0.779, 'logregress': 0.774, 'ffnn': 0.776, 'iForest': 0.663, 'autoencoder': 0.539}}\n"
     ]
    }
   ],
   "source": [
    "# Remove all category columns that are dependent\n",
    "catdfSlim=catdf.drop(columns=catDependent)\n",
    "if target in catdfSlim.columns: catdfSlim.drop(columns=[target],inplace=True)\n",
    "if catdfSlim.shape[1]>0:\n",
    "    catdfoh=processOneHot(catdfSlim)\n",
    "    print(\"catdfoh shape, after removing\",len(catDependent),'category features',catdfoh.shape)\n",
    "\n",
    "# rebuild df without dependent categorical\n",
    "if catdfSlim.shape[1]>0:\n",
    "    df=catdfoh.join(numericdf)\n",
    "if target not in df.columns:\n",
    "    df[target]=targetdf\n",
    "print(\"df shape, after ohe and target are added\",df.shape)\n",
    "\n",
    "#remove numeric collinear\n",
    "df.drop(columns=removePearson, inplace=True)\n",
    "print(\"df shape, after removing\",len(removePearson),\"numeric collinear features is\",df.shape)\n",
    "colinColumnDropCount=len(catDependent)+len(removePearson)\n",
    "df=powerTransform(df)\n",
    "stageResults['collinearity']=(processAllModels(df, mainMetric, randomSeed,\"\",\"\"))\n",
    "print(\"\\nStage collinearity results:\")\n",
    "print(stageResults)\n"
   ]
  },
  {
   "cell_type": "markdown",
   "id": "13d0b27a",
   "metadata": {},
   "source": [
    "## Feature selection\n",
    "Feature selection based feature permutation and SHAP for a tree-based model."
   ]
  },
  {
   "cell_type": "code",
   "execution_count": 955,
   "id": "e092dd66",
   "metadata": {},
   "outputs": [],
   "source": [
    "# Feature importance thru Permutation - returns features that are below threshold for the selected metric\n",
    "def featurePermutation(cl, X, y, nRepeat, randomSeed, s,mainMetricPermTreshold):\n",
    "    scoring=[s]\n",
    "    result = permutation_importance(cl, X, y, n_repeats=nRepeat, random_state=randomSeed, scoring=scoring)\n",
    "    fig = plt.figure(figsize=(14,40))\n",
    "    for i in range(len(scoring)):\n",
    "        plt.subplot(len(scoring),1,i+1)\n",
    "        plt.subplots_adjust(hspace=1,wspace=0.3)\n",
    "        forest_importances = pd.Series(result[scoring[i]]['importances_mean'], index=X.columns)\n",
    "        plt.bar(X.columns, forest_importances, align=\"center\",yerr=result[scoring[i]].importances_std)\n",
    "        title=\"Feature importances using permutation for:\"+scoring[i]\n",
    "        plt.title(title)\n",
    "        plt.xticks(rotation='vertical')\n",
    "        plt.ylabel(\"Mean decrease\")\n",
    "        if scoring[i]==mainMetric:\n",
    "            set=[]\n",
    "            if debugLevel > 0: print(\"Features that are below the permutation importance threshold\",mainMetricPermTreshold,\"for\",mainMetric)\n",
    "            count=0\n",
    "            total=0\n",
    "            for j in range(len(forest_importances)):\n",
    "                total=total+forest_importances[j]\n",
    "                if forest_importances[j] < mainMetricPermTreshold:\n",
    "                    print(forest_importances.index[j],forest_importances[j])\n",
    "                    set.append(forest_importances.index[j])\n",
    "                    count=count+1\n",
    "            print(\"Total feature decrease amounts to\",round(total,3))\n",
    "    plt.show()\n",
    "    return set"
   ]
  },
  {
   "cell_type": "code",
   "execution_count": 956,
   "id": "f5daa7c4",
   "metadata": {},
   "outputs": [],
   "source": [
    "# return set of columns to drop according to SHAP method and shapThreshold\n",
    "def shapExplain(X,y,est,s):\n",
    "    X100 = shap.utils.sample(X, 100) # 100 instances for use as the background distribution\n",
    "#     explainer = shap.Explainer(est.predict, X100,seed=s)\n",
    "#     shap_values = explainer(X)\n",
    "    est.fit(X,y)\n",
    "    explainer = shap.TreeExplainer(est)\n",
    "    shap_values = explainer.shap_values(X)\n",
    "    sample_ind = 100\n",
    "\n",
    "#     rf_resultX = pd.DataFrame(shap_values.values, columns = X.columns)\n",
    "    rf_resultX = pd.DataFrame(shap_values, columns = X.columns)\n",
    "    vals = np.abs(rf_resultX.values).mean(axis=0)\n",
    "\n",
    "    shap_importance = pd.DataFrame(list(zip(X.columns, vals)),columns=['name','importance'])\n",
    "    shap_importance.sort_values(by=['importance'],ascending=False, inplace=True)\n",
    "\n",
    "    shap.summary_plot(shap_values,features=X)\n",
    "    #shap.plots.waterfall(shap_values[sample_ind], max_display=sample_ind)\n",
    "    #shap.plots.bar(shap_values[sample_ind], max_display=sample_ind)\n",
    "    #shap.plots.beeswarm(shap_values,max_display=sample_ind)\n",
    "    set=[]\n",
    "    for i in range (len(shap_importance)-1):\n",
    "        if abs(shap_importance['importance'][i]) < shapThreshold:\n",
    "            set.append(shap_importance['name'][i])\n",
    "            print(\"Features below shap importance threshold:\",shap_importance['name'][i],shap_importance['importance'][i])\n",
    "    return set"
   ]
  },
  {
   "cell_type": "code",
   "execution_count": 957,
   "id": "d2bfc2ef",
   "metadata": {},
   "outputs": [],
   "source": [
    "def intersection(lst1, lst2):\n",
    "    lst3 = [value for value in lst1 if value in lst2]\n",
    "    return lst3\n"
   ]
  },
  {
   "cell_type": "markdown",
   "id": "a8f44947",
   "metadata": {},
   "source": [
    "### Dropping features flagged by both Permutation and Shap"
   ]
  },
  {
   "cell_type": "code",
   "execution_count": 958,
   "id": "89dcb4c4",
   "metadata": {},
   "outputs": [
    {
     "name": "stdout",
     "output_type": "stream",
     "text": [
      "PAY_0_5 -4.653836944479295e-07\n",
      "PAY_0_8 6.192188599207782e-06\n",
      "PAY_0_otherOH 1.667624903722853e-07\n",
      "PAY_2_6 -4.560760204341818e-06\n",
      "PAY_2_7 5.554871484569901e-06\n",
      "PAY_2_otherOH 1.3573691077795046e-07\n",
      "PAY_3_1 5.067511337442099e-07\n",
      "PAY_3_7 1.0548697069845403e-06\n",
      "PAY_3_otherOH 3.60672362886838e-07\n",
      "PAY_4_1 9.036200063983202e-07\n",
      "PAY_4_4 6.634303108743467e-06\n",
      "PAY_4_7 -4.162598599588563e-07\n",
      "PAY_4_otherOH 4.6538369358195554e-08\n",
      "PAY_5_6 1.6120374076500354e-06\n",
      "PAY_5_8 0.0\n",
      "PAY_6_0 -0.00019784301121359427\n",
      "PAY_6_5 0.0\n",
      "PAY_6_7 1.151824643352839e-06\n",
      "PAY_6_8 7.676245491072819e-06\n",
      "Total feature decrease amounts to 0.359\n"
     ]
    },
    {
     "data": {
      "image/png": "[encoded data removed]",
      "text/plain": [
       "<Figure size 1008x2880 with 1 Axes>"
      ]
     },
     "metadata": {},
     "output_type": "display_data"
    },
    {
     "data": {
      "image/png": "[encoded data removed]",
      "text/plain": [
       "<Figure size 576x684 with 2 Axes>"
      ]
     },
     "metadata": {},
     "output_type": "display_data"
    },
    {
     "name": "stdout",
     "output_type": "stream",
     "text": [
      "Features below shap importance threshold: PAY_0_5 4.1636646795505303e-05\n",
      "Features below shap importance threshold: PAY_0_6 0.00013083938235104714\n",
      "Features below shap importance threshold: PAY_0_8 7.415249367106891e-05\n",
      "Features below shap importance threshold: PAY_0_otherOH 4.099515429374773e-05\n",
      "Features below shap importance threshold: PAY_2_1 0.0002824204251959352\n",
      "Features below shap importance threshold: PAY_2_5 0.0004353941008841546\n",
      "Features below shap importance threshold: PAY_2_6 0.00017228176145912979\n",
      "Features below shap importance threshold: PAY_2_7 3.58061362676192e-05\n",
      "Features below shap importance threshold: PAY_2_otherOH 1.7138245457148954e-06\n",
      "Features below shap importance threshold: PAY_3_1 3.687622800587373e-06\n",
      "Features below shap importance threshold: PAY_3_4 0.0004215132448675123\n",
      "Features below shap importance threshold: PAY_3_5 0.00018947314601075636\n",
      "Features below shap importance threshold: PAY_3_6 9.448559218256671e-05\n",
      "Features below shap importance threshold: PAY_3_7 6.789481453476372e-05\n",
      "Features below shap importance threshold: PAY_3_otherOH 3.428274908503953e-06\n",
      "Features below shap importance threshold: PAY_4_1 1.7836375850132938e-05\n",
      "Features below shap importance threshold: PAY_4_4 0.0008553820608189951\n",
      "Features below shap importance threshold: PAY_4_5 5.757538909353649e-05\n",
      "Features below shap importance threshold: PAY_4_6 6.240560261675643e-05\n",
      "Features below shap importance threshold: PAY_4_7 0.00040892112454381056\n",
      "Features below shap importance threshold: PAY_4_otherOH 2.175531902904862e-06\n",
      "Features below shap importance threshold: PAY_5_4 0.0002735383145391185\n",
      "Features below shap importance threshold: PAY_5_5 0.0003651492087095132\n",
      "Features below shap importance threshold: PAY_5_6 2.270034634068937e-05\n",
      "Features below shap importance threshold: PAY_5_8 0.0\n",
      "Features below shap importance threshold: PAY_6_4 0.0002991492039334593\n",
      "Features below shap importance threshold: PAY_6_5 0.0\n",
      "Features below shap importance threshold: PAY_6_6 0.0005774978997372709\n",
      "Features below shap importance threshold: PAY_6_7 6.784192158445135e-05\n",
      "Features below shap importance threshold: PAY_6_8 8.30238119489501e-05\n",
      "\n",
      "Features to drop per Permutation: 19 out of total column number = 77\n",
      "Features to drop per Shap: 30 out of total column number = 77\n"
     ]
    }
   ],
   "source": [
    "y=df[target]\n",
    "X=df.drop(columns=[target])\n",
    "\n",
    "m=CatBoostClassifier(silent=True,random_state=randomSeed)\n",
    "m.fit(X,y)\n",
    "\n",
    "toDropPermutation=featurePermutation(m, X,y, 5, randomSeed, mainMetric,permutationTreshold)\n",
    "toDropShap=shapExplain(X,y,m,randomSeed)\n",
    "\n",
    "print(\"\\nFeatures to drop per Permutation:\",len(toDropPermutation),\"out of total column number =\",len(X.columns))\n",
    "print(\"Features to drop per Shap:\",len(toDropShap),\"out of total column number =\",len(X.columns))\n",
    "intersectionDrop= intersection(toDropPermutation,toDropShap)\n",
    "selectionColumnDropCount=len(intersectionDrop)\n"
   ]
  },
  {
   "cell_type": "markdown",
   "id": "34ccecac",
   "metadata": {},
   "source": [
    "## Stage 'tree-based feature selection'"
   ]
  },
  {
   "cell_type": "code",
   "execution_count": 959,
   "id": "7e15427a",
   "metadata": {},
   "outputs": [
    {
     "name": "stdout",
     "output_type": "stream",
     "text": [
      "Computing metrics for all model for stage featureSelection\n",
      "We dropped 18 intersecting features, out of total 77\n",
      "Size of X training set is  (20975, 59)\n",
      "Size of X validation set is (8990, 59)\n",
      "Target count: negative, positive 16334 4641\n",
      "For classifier catboost roc_auc is 0.78\n",
      "For classifier logregress roc_auc is 0.774\n",
      "Model: \"sequential_226\"\n",
      "_________________________________________________________________\n",
      " Layer (type)                Output Shape              Param #   \n",
      "=================================================================\n",
      " dense_951 (Dense)           (None, 30)                1800      \n",
      "                                                                 \n",
      " dense_952 (Dense)           (None, 1)                 31        \n",
      "                                                                 \n",
      "=================================================================\n",
      "Total params: 1,831\n",
      "Trainable params: 1,831\n",
      "Non-trainable params: 0\n",
      "_________________________________________________________________\n",
      "None\n",
      "281/281 [==============================] - 0s 763us/step - loss: 0.4343 - auc_32: 0.7770\n",
      "For classifier ffnn roc_auc is 0.777\n",
      "Contamination set to 0.22125813449023857\n",
      "For classifier iForest roc_auc is 0.653\n",
      "Contamination set to 0.22125813449023857\n",
      "656/656 [==============================] - 1s 819us/step\n",
      "281/281 [==============================] - 0s 811us/step\n",
      "281/281 [==============================] - 0s 814us/step\n",
      "For classifier autoencoder roc_auc is 0.54\n",
      "\n",
      "Stage featureSelection results:\n",
      "{'initial': {'catboost': 0.779, 'logregress': 0.649, 'ffnn': 0.511, 'iForest': 0.638, 'autoencoder': 0.404}, 'powerTransform': {'catboost': 0.779, 'logregress': 0.774, 'ffnn': 0.776, 'iForest': 0.671, 'autoencoder': 0.539}, 'powerTransformNoOL': {'catboost': 0.777, 'logregress': 0.771, 'ffnn': 0.773, 'iForest': 0.658, 'autoencoder': 0.581}, 'collinearity': {'catboost': 0.779, 'logregress': 0.774, 'ffnn': 0.776, 'iForest': 0.663, 'autoencoder': 0.539}, 'featureSelection': {'catboost': 0.78, 'logregress': 0.774, 'ffnn': 0.777, 'iForest': 0.653, 'autoencoder': 0.54}}\n"
     ]
    }
   ],
   "source": [
    "sampler=\"\"\n",
    "print(\"Computing metrics for all model for stage featureSelection\")\n",
    "df.drop(columns=intersectionDrop,inplace=True)\n",
    "print(\"We dropped\",len(intersectionDrop),\"intersecting features, out of total\",len(X.columns))\n",
    "stageResults['featureSelection']=processAllModels(df, mainMetric, randomSeed,\"\",\"\")\n",
    "print(\"\\nStage featureSelection results:\")\n",
    "print(stageResults)"
   ]
  },
  {
   "cell_type": "markdown",
   "id": "1f4c87af",
   "metadata": {},
   "source": [
    "## Re-sampling Stage\n",
    "Will use SMOTE over-sampling and ENN under-sampling "
   ]
  },
  {
   "cell_type": "code",
   "execution_count": 960,
   "id": "3a89b7ed",
   "metadata": {},
   "outputs": [
    {
     "name": "stdout",
     "output_type": "stream",
     "text": [
      "\n",
      "Start ENN under-sampling stage\n",
      "Size of X training set is  (20975, 59)\n",
      "Size of X validation set is (8990, 59)\n",
      "Target count: negative, positive 16334 4641\n",
      "After resampling, size of training data is (14655, 59) . Validation set is unchanged\n",
      "Target count: negative, positive 10014 4641\n",
      "For classifier catboost roc_auc is 0.78\n",
      "For classifier logregress roc_auc is 0.776\n",
      "Model: \"sequential_228\"\n",
      "_________________________________________________________________\n",
      " Layer (type)                Output Shape              Param #   \n",
      "=================================================================\n",
      " dense_960 (Dense)           (None, 30)                1800      \n",
      "                                                                 \n",
      " dense_961 (Dense)           (None, 1)                 31        \n",
      "                                                                 \n",
      "=================================================================\n",
      "Total params: 1,831\n",
      "Trainable params: 1,831\n",
      "Non-trainable params: 0\n",
      "_________________________________________________________________\n",
      "None\n",
      "281/281 [==============================] - 0s 759us/step - loss: 0.5443 - auc_33: 0.7753\n",
      "For classifier ffnn roc_auc is 0.775\n",
      "Contamination set to 0.22125813449023857\n",
      "For classifier iForest roc_auc is 0.667\n",
      "Contamination set to 0.22125813449023857\n",
      "458/458 [==============================] - 0s 744us/step\n",
      "281/281 [==============================] - 0s 764us/step\n",
      "281/281 [==============================] - 0s 704us/step\n",
      "For classifier autoencoder roc_auc is 0.541\n",
      "\n",
      "Stage ENN sub-sampling results:\n",
      "{'initial': {'catboost': 0.779, 'logregress': 0.649, 'ffnn': 0.511, 'iForest': 0.638, 'autoencoder': 0.404}, 'powerTransform': {'catboost': 0.779, 'logregress': 0.774, 'ffnn': 0.776, 'iForest': 0.671, 'autoencoder': 0.539}, 'powerTransformNoOL': {'catboost': 0.777, 'logregress': 0.771, 'ffnn': 0.773, 'iForest': 0.658, 'autoencoder': 0.581}, 'collinearity': {'catboost': 0.779, 'logregress': 0.774, 'ffnn': 0.776, 'iForest': 0.663, 'autoencoder': 0.539}, 'featureSelection': {'catboost': 0.78, 'logregress': 0.774, 'ffnn': 0.777, 'iForest': 0.653, 'autoencoder': 0.54}, 'ENN': {'catboost': 0.78, 'logregress': 0.776, 'ffnn': 0.775, 'iForest': 0.667, 'autoencoder': 0.541}}\n",
      "\n",
      "Start SMOTE over-sampling stage\n",
      "Size of X training set is  (20975, 59)\n",
      "Size of X validation set is (8990, 59)\n",
      "Target count: negative, positive 16334 4641\n",
      "After resampling, size of training data is (32668, 59) . Validation set is unchanged\n",
      "Target count: negative, positive 16334 16334\n",
      "For classifier catboost roc_auc is 0.769\n",
      "For classifier logregress roc_auc is 0.754\n",
      "Model: \"sequential_230\"\n",
      "_________________________________________________________________\n",
      " Layer (type)                Output Shape              Param #   \n",
      "=================================================================\n",
      " dense_969 (Dense)           (None, 30)                1800      \n",
      "                                                                 \n",
      " dense_970 (Dense)           (None, 1)                 31        \n",
      "                                                                 \n",
      "=================================================================\n",
      "Total params: 1,831\n",
      "Trainable params: 1,831\n",
      "Non-trainable params: 0\n",
      "_________________________________________________________________\n",
      "None\n",
      "281/281 [==============================] - 0s 757us/step - loss: 0.5969 - auc_34: 0.7600\n",
      "For classifier ffnn roc_auc is 0.76\n",
      "Contamination set to 0.22125813449023857\n",
      "For classifier iForest roc_auc is 0.615\n",
      "Contamination set to 0.22125813449023857\n",
      "1021/1021 [==============================] - 1s 763us/step\n",
      "281/281 [==============================] - 0s 807us/step\n",
      "281/281 [==============================] - 0s 805us/step\n",
      "For classifier autoencoder roc_auc is 0.537\n",
      "\n",
      "Stage SMOTE sub-sampling results:\n",
      "{'initial': {'catboost': 0.779, 'logregress': 0.649, 'ffnn': 0.511, 'iForest': 0.638, 'autoencoder': 0.404}, 'powerTransform': {'catboost': 0.779, 'logregress': 0.774, 'ffnn': 0.776, 'iForest': 0.671, 'autoencoder': 0.539}, 'powerTransformNoOL': {'catboost': 0.777, 'logregress': 0.771, 'ffnn': 0.773, 'iForest': 0.658, 'autoencoder': 0.581}, 'collinearity': {'catboost': 0.779, 'logregress': 0.774, 'ffnn': 0.776, 'iForest': 0.663, 'autoencoder': 0.539}, 'featureSelection': {'catboost': 0.78, 'logregress': 0.774, 'ffnn': 0.777, 'iForest': 0.653, 'autoencoder': 0.54}, 'ENN': {'catboost': 0.78, 'logregress': 0.776, 'ffnn': 0.775, 'iForest': 0.667, 'autoencoder': 0.541}, 'SMOTE': {'catboost': 0.769, 'logregress': 0.754, 'ffnn': 0.76, 'iForest': 0.615, 'autoencoder': 0.537}}\n"
     ]
    }
   ],
   "source": [
    "# ENN\n",
    "print(\"\\nStart ENN under-sampling stage\")\n",
    "sampler=EditedNearestNeighbours(sampling_strategy='majority')\n",
    "stageResults['ENN']=(processAllModels(df, mainMetric, randomSeed,sampler,\"\"))\n",
    "print(\"\\nStage ENN sub-sampling results:\")\n",
    "print(stageResults)\n",
    "    \n",
    "# smote\n",
    "print(\"\\nStart SMOTE over-sampling stage\")\n",
    "sampler=SMOTE(random_state=randomSeed)\n",
    "stageResults['SMOTE']=(processAllModels(df, mainMetric, randomSeed,sampler,\"\"))\n",
    "print(\"\\nStage SMOTE sub-sampling results:\")\n",
    "print(stageResults)\n",
    "        "
   ]
  },
  {
   "cell_type": "code",
   "execution_count": 961,
   "id": "75579b8d",
   "metadata": {},
   "outputs": [],
   "source": [
    "# Based on results above, decide if you should resample or not\n",
    "resamplerValue= sampler # from above, or\n",
    "resamplerValue = \"\" # default, no resampling"
   ]
  },
  {
   "cell_type": "markdown",
   "id": "dfe62866",
   "metadata": {},
   "source": [
    "## Stage: training loss weight adjustment\n",
    "We make the loss larger for the minority class"
   ]
  },
  {
   "cell_type": "code",
   "execution_count": 962,
   "id": "d901014c",
   "metadata": {},
   "outputs": [
    {
     "name": "stdout",
     "output_type": "stream",
     "text": [
      "Size of X training set is  (20975, 59)\n",
      "Size of X validation set is (8990, 59)\n",
      "Target count: negative, positive 16334 4641\n",
      "Weight mode is auto Weight ratio is 3.52\n",
      "For classifier catboost roc_auc is 0.776\n",
      "For classifier logregress roc_auc is 0.774\n",
      "Model: \"sequential_232\"\n",
      "_________________________________________________________________\n",
      " Layer (type)                Output Shape              Param #   \n",
      "=================================================================\n",
      " dense_978 (Dense)           (None, 30)                1800      \n",
      "                                                                 \n",
      " dense_979 (Dense)           (None, 1)                 31        \n",
      "                                                                 \n",
      "=================================================================\n",
      "Total params: 1,831\n",
      "Trainable params: 1,831\n",
      "Non-trainable params: 0\n",
      "_________________________________________________________________\n",
      "None\n",
      "281/281 [==============================] - 0s 896us/step - loss: 0.5514 - auc_35: 0.7773\n",
      "For classifier ffnn roc_auc is 0.777\n",
      "Contamination set to 0.22125813449023857\n",
      "For classifier iForest roc_auc is 0.672\n",
      "Contamination set to 0.22125813449023857\n",
      "656/656 [==============================] - 1s 768us/step\n",
      "281/281 [==============================] - 0s 761us/step\n",
      "281/281 [==============================] - 0s 804us/step\n",
      "For classifier autoencoder roc_auc is 0.54\n",
      "\n",
      "Stage weightLossAuto results:\n",
      "{'initial': {'catboost': 0.779, 'logregress': 0.649, 'ffnn': 0.511, 'iForest': 0.638, 'autoencoder': 0.404}, 'powerTransform': {'catboost': 0.779, 'logregress': 0.774, 'ffnn': 0.776, 'iForest': 0.671, 'autoencoder': 0.539}, 'powerTransformNoOL': {'catboost': 0.777, 'logregress': 0.771, 'ffnn': 0.773, 'iForest': 0.658, 'autoencoder': 0.581}, 'collinearity': {'catboost': 0.779, 'logregress': 0.774, 'ffnn': 0.776, 'iForest': 0.663, 'autoencoder': 0.539}, 'featureSelection': {'catboost': 0.78, 'logregress': 0.774, 'ffnn': 0.777, 'iForest': 0.653, 'autoencoder': 0.54}, 'ENN': {'catboost': 0.78, 'logregress': 0.776, 'ffnn': 0.775, 'iForest': 0.667, 'autoencoder': 0.541}, 'SMOTE': {'catboost': 0.769, 'logregress': 0.754, 'ffnn': 0.76, 'iForest': 0.615, 'autoencoder': 0.537}, 'weightLossAuto': {'catboost': 0.776, 'logregress': 0.774, 'ffnn': 0.777, 'iForest': 0.672, 'autoencoder': 0.54}}\n",
      "Size of X training set is  (20975, 59)\n",
      "Size of X validation set is (8990, 59)\n",
      "Target count: negative, positive 16334 4641\n",
      "Weight mode is 10 Weight ratio is 10\n",
      "For classifier catboost roc_auc is 0.774\n",
      "For classifier logregress roc_auc is 0.774\n",
      "Model: \"sequential_234\"\n",
      "_________________________________________________________________\n",
      " Layer (type)                Output Shape              Param #   \n",
      "=================================================================\n",
      " dense_987 (Dense)           (None, 30)                1800      \n",
      "                                                                 \n",
      " dense_988 (Dense)           (None, 1)                 31        \n",
      "                                                                 \n",
      "=================================================================\n",
      "Total params: 1,831\n",
      "Trainable params: 1,831\n",
      "Non-trainable params: 0\n",
      "_________________________________________________________________\n",
      "None\n",
      "281/281 [==============================] - 0s 882us/step - loss: 0.9175 - auc_36: 0.7772\n",
      "For classifier ffnn roc_auc is 0.777\n",
      "Contamination set to 0.22125813449023857\n",
      "For classifier iForest roc_auc is 0.663\n",
      "Contamination set to 0.22125813449023857\n",
      "656/656 [==============================] - 1s 714us/step\n",
      "281/281 [==============================] - 0s 707us/step\n",
      "281/281 [==============================] - 0s 685us/step\n",
      "For classifier autoencoder roc_auc is 0.54\n",
      "\n",
      "Stage weightLossCustom results:\n",
      "{'initial': {'catboost': 0.779, 'logregress': 0.649, 'ffnn': 0.511, 'iForest': 0.638, 'autoencoder': 0.404}, 'powerTransform': {'catboost': 0.779, 'logregress': 0.774, 'ffnn': 0.776, 'iForest': 0.671, 'autoencoder': 0.539}, 'powerTransformNoOL': {'catboost': 0.777, 'logregress': 0.771, 'ffnn': 0.773, 'iForest': 0.658, 'autoencoder': 0.581}, 'collinearity': {'catboost': 0.779, 'logregress': 0.774, 'ffnn': 0.776, 'iForest': 0.663, 'autoencoder': 0.539}, 'featureSelection': {'catboost': 0.78, 'logregress': 0.774, 'ffnn': 0.777, 'iForest': 0.653, 'autoencoder': 0.54}, 'ENN': {'catboost': 0.78, 'logregress': 0.776, 'ffnn': 0.775, 'iForest': 0.667, 'autoencoder': 0.541}, 'SMOTE': {'catboost': 0.769, 'logregress': 0.754, 'ffnn': 0.76, 'iForest': 0.615, 'autoencoder': 0.537}, 'weightLossAuto': {'catboost': 0.776, 'logregress': 0.774, 'ffnn': 0.777, 'iForest': 0.672, 'autoencoder': 0.54}, 'weightLossCustom': {'catboost': 0.774, 'logregress': 0.774, 'ffnn': 0.777, 'iForest': 0.663, 'autoencoder': 0.54}}\n"
     ]
    }
   ],
   "source": [
    "# Model itself decides what weight to give to each label value, usually according to imbalance percentage\n",
    "stageResults['weightLossAuto']=processAllModels(df, mainMetric, randomSeed,resamplerValue,'auto')\n",
    "print(\"\\nStage weightLossAuto results:\")\n",
    "print(stageResults)\n",
    "# For comparison, we enforce here a ratio of imbalanceLossWeightRatio, just to compare with default above\n",
    "stageResults['weightLossCustom']=processAllModels(df, mainMetric, randomSeed,resamplerValue,imbalanceLossWeightRatio)\n",
    "print(\"\\nStage weightLossCustom results:\")\n",
    "print(stageResults)"
   ]
  },
  {
   "cell_type": "code",
   "execution_count": 963,
   "id": "04d19e60",
   "metadata": {},
   "outputs": [],
   "source": [
    "# Based on above, pick the appropriate amount of loss weight you want to apply, by default, auto\n",
    "# note that if resamplerValue value is not empty, then lossWeightValue should be set to empty (\"\")\n",
    "lossWeightValue=\"auto\""
   ]
  },
  {
   "cell_type": "markdown",
   "id": "9376892f",
   "metadata": {},
   "source": [
    "## Final metric values and graphs\n",
    "### Normalized metrics, from 0 (matches baseline categorizer) to 1.0 (perfect prediction)\n",
    "See https://medium.com/@lermantp/imbalanced-datasets-a-case-for-normalized-metric-gain-b61afc753d3e#67ab-5369f80ddbbf"
   ]
  },
  {
   "cell_type": "code",
   "execution_count": 964,
   "id": "c764a6a3",
   "metadata": {
    "scrolled": true
   },
   "outputs": [
    {
     "name": "stdout",
     "output_type": "stream",
     "text": [
      "Final stageResultsNormal results for test file defaultCreditCard\n",
      "Total number of non-null samples: 29965 . Number of columns after feature engineering: 60\n",
      "columns dropped by feature collinearity: 0 columns dropped by feature selection: 18 , number of outliers identified: 7151\n",
      "Baseline value for metric roc_auc is 0.5 . Percent of positive labels is 22.12 :\n",
      " {'initial': {'catboost': 0.558, 'logregress': 0.298, 'ffnn': 0.022, 'iForest': 0.276, 'autoencoder': -0.192}, 'powerTransform': {'catboost': 0.558, 'logregress': 0.548, 'ffnn': 0.552, 'iForest': 0.342, 'autoencoder': 0.078}, 'powerTransformNoOL': {'catboost': 0.554, 'logregress': 0.542, 'ffnn': 0.546, 'iForest': 0.316, 'autoencoder': 0.162}, 'collinearity': {'catboost': 0.558, 'logregress': 0.548, 'ffnn': 0.552, 'iForest': 0.326, 'autoencoder': 0.078}, 'featureSelection': {'catboost': 0.56, 'logregress': 0.548, 'ffnn': 0.554, 'iForest': 0.306, 'autoencoder': 0.08}, 'ENN': {'catboost': 0.56, 'logregress': 0.552, 'ffnn': 0.55, 'iForest': 0.334, 'autoencoder': 0.082}, 'SMOTE': {'catboost': 0.538, 'logregress': 0.508, 'ffnn': 0.52, 'iForest': 0.23, 'autoencoder': 0.074}, 'weightLossAuto': {'catboost': 0.552, 'logregress': 0.548, 'ffnn': 0.554, 'iForest': 0.344, 'autoencoder': 0.08}, 'weightLossCustom': {'catboost': 0.548, 'logregress': 0.548, 'ffnn': 0.554, 'iForest': 0.326, 'autoencoder': 0.08}}\n"
     ]
    }
   ],
   "source": [
    "import copy\n",
    "\n",
    "stageResultsNormal=copy.deepcopy(stageResults)\n",
    "for i in stageResults:\n",
    "    for j in stageResults[i]:\n",
    "        stageResultsNormal[i][j]=round((stageResults[i][j]-baseline)/(1-baseline),3)\n",
    "print(\"Final stageResultsNormal results for test file\",testFile)\n",
    "print(\"Total number of non-null samples:\",df.shape[0],\". Number of columns after feature engineering:\",df.shape[1])\n",
    "print(\"columns dropped by feature collinearity:\",colinColumnDropCount,\"columns dropped by feature selection:\",selectionColumnDropCount,\", number of outliers identified:\",outlierTotalCount)\n",
    "print(\"Baseline value for metric\",mainMetric,\"is\",baseline,\". Percent of positive labels is\",round(100.0*positivePercent,3),\":\\n\",stageResultsNormal)"
   ]
  },
  {
   "cell_type": "markdown",
   "id": "1fe6935d",
   "metadata": {},
   "source": [
    "### Graphs"
   ]
  },
  {
   "cell_type": "code",
   "execution_count": 965,
   "id": "f17c33ad",
   "metadata": {
    "scrolled": true
   },
   "outputs": [
    {
     "data": {
      "image/png": "[encoded data removed]",
      "text/plain": [
       "<Figure size 720x288 with 1 Axes>"
      ]
     },
     "metadata": {},
     "output_type": "display_data"
    },
    {
     "data": {
      "image/png": "[encoded data removed]",
      "text/plain": [
       "<Figure size 720x288 with 1 Axes>"
      ]
     },
     "metadata": {},
     "output_type": "display_data"
    },
    {
     "data": {
      "image/png": "[encoded data removed]",
      "text/plain": [
       "<Figure size 720x288 with 1 Axes>"
      ]
     },
     "metadata": {},
     "output_type": "display_data"
    },
    {
     "data": {
      "image/png": "[encoded data removed]",
      "text/plain": [
       "<Figure size 720x288 with 1 Axes>"
      ]
     },
     "metadata": {},
     "output_type": "display_data"
    }
   ],
   "source": [
    "# Graphs\n",
    "\n",
    "for algo in ['catboost','logregress','ffnn','autoencoder']:\n",
    "    fig = plt.figure(figsize=(10,4))#if say 2 horizontal plots\n",
    "    plt.xlabel(\"stages\",fontsize=12)\n",
    "    plt.ylabel(\"Performance\",fontsize=12)\n",
    "    title=mainMetric+' '+algo+\" performance\"+' for dataset'+' '+testFile\n",
    "    plt.title(title,fontsize=14)\n",
    "    normal=stageResultsNormal['powerTransform'][algo]\n",
    "    noOutlier=stageResultsNormal['powerTransformNoOL'][algo]\n",
    "    collinear=stageResultsNormal['collinearity'][algo]\n",
    "    featureSelect=stageResultsNormal['featureSelection'][algo]\n",
    "    ENN=stageResultsNormal['ENN'][algo]\n",
    "    SMOTE=stageResultsNormal['SMOTE'][algo]\n",
    "    weightLossAuto=stageResultsNormal['weightLossAuto'][algo]\n",
    "\n",
    "    #normalize, noOutlier\n",
    "    x=[0,1]\n",
    "    y=[normal,noOutlier]\n",
    "    plt.plot(x,y)\n",
    "\n",
    "    #normalize, collinear\n",
    "    x=[0,2]\n",
    "    y=[normal,collinear]\n",
    "    plt.plot(x,y)\n",
    "\n",
    "    #featureSelect from collinear\n",
    "    x=[2,3]\n",
    "    y=[collinear,featureSelect]\n",
    "    plt.plot(x,y)\n",
    "\n",
    "\n",
    "    #enn from featureSelect\n",
    "    x=[3,4]\n",
    "    y=[featureSelect,ENN]\n",
    "    plt.plot(x,y)\n",
    "\n",
    "    #smote from featureSelect\n",
    "    x=[3,5]\n",
    "    y=[featureSelect,SMOTE]\n",
    "    plt.plot(x,y)\n",
    "\n",
    "    #weightLossAuto from featureSelect\n",
    "    x=[3,6]\n",
    "    y=[featureSelect,weightLossAuto]\n",
    "    plt.plot(x,y)\n",
    "\n",
    "    x=[0,1,2,3,4,5,6]\n",
    "    plt.xticks(ticks=x,labels=['Normal','NoOutlier','Collinear','FeatureSelect','SamplingENN','SamplingSmote','WeightLossAuto'])\n",
    "    plt.show()"
   ]
  },
  {
   "cell_type": "code",
   "execution_count": null,
   "id": "78f12631",
   "metadata": {},
   "outputs": [],
   "source": []
  }
 ],
 "metadata": {
  "kernelspec": {
   "display_name": "Python 3 (ipykernel)",
   "language": "python",
   "name": "python3"
  },
  "language_info": {
   "codemirror_mode": {
    "name": "ipython",
    "version": 3
   },
   "file_extension": ".py",
   "mimetype": "text/x-python",
   "name": "python",
   "nbconvert_exporter": "python",
   "pygments_lexer": "ipython3",
   "version": "3.9.12"
  }
 },
 "nbformat": 4,
 "nbformat_minor": 5
}
